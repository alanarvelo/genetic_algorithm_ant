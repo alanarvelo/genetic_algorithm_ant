{
 "cells": [
  {
   "cell_type": "code",
   "execution_count": 1,
   "metadata": {
    "scrolled": true
   },
   "outputs": [
    {
     "name": "stdout",
     "output_type": "stream",
     "text": [
      "Once deleted, variables cannot be recovered. Proceed (y/[n])? \n",
      "Nothing done.\n"
     ]
    }
   ],
   "source": [
    "%reset"
   ]
  },
  {
   "cell_type": "code",
   "execution_count": 2,
   "metadata": {},
   "outputs": [],
   "source": [
    "import random\n",
    "import json\n",
    "import numpy as np, pandas as pd\n",
    "from deap import base, creator, tools, algorithms, gp\n",
    "from pprint import pprint\n",
    "from dask.diagnostics import ProgressBar\n",
    "import copy\n",
    "from functools import partial"
   ]
  },
  {
   "cell_type": "code",
   "execution_count": 3,
   "metadata": {},
   "outputs": [
    {
     "data": {
      "text/html": [
       "<style>.container { width:90% !important; }</style>"
      ],
      "text/plain": [
       "<IPython.core.display.HTML object>"
      ]
     },
     "metadata": {},
     "output_type": "display_data"
    }
   ],
   "source": [
    "from IPython.core.display import display, HTML\n",
    "display(HTML(\"<style>.container { width:90% !important; }</style>\"))"
   ]
  },
  {
   "cell_type": "code",
   "execution_count": 4,
   "metadata": {},
   "outputs": [],
   "source": [
    "# utility functions\n",
    "\n",
    "def progn(*args):\n",
    "    for arg in args:\n",
    "        arg()\n",
    "\n",
    "def prog2(out1, out2): \n",
    "    return partial(progn,out1,out2)\n",
    "\n",
    "def prog3(out1, out2, out3):     \n",
    "    return partial(progn,out1,out2,out3)\n",
    "\n",
    "def if_then_else(condition, out1, out2):\n",
    "    print(\"if then else\")\n",
    "    out1() if condition() else out2()\n",
    "    \n",
    "def fourbits2int(b3, b2, b1, b0):\n",
    "    return b0*1 + b1*2 + b2*4 + b3*8\n",
    "\n",
    "def twobits2int(b1, b0):\n",
    "    return b0*1 + b1*2\n",
    "\n",
    "def show_map(mtx):\n",
    "    for row in mtx:\n",
    "        print(\" \".join(map(str, row)))"
   ]
  },
  {
   "cell_type": "code",
   "execution_count": 5,
   "metadata": {},
   "outputs": [],
   "source": [
    "class Genome(list):\n",
    "    num_states = 16\n",
    "#     genome = \"01000101000011001001000011001101000011010001000011000011000011\" # 62 in length\n",
    "#     genome_list = [int(x) for x in genome_list]\n",
    "    \n",
    "    def __init__(self, genome):\n",
    "        self.transitions_food = []\n",
    "        self.actions_food = []\n",
    "        self.transitions_no_food = []\n",
    "        self.actions_no_food = []\n",
    "        self.bits = genome\n",
    "        self.start_state = fourbits2int(*self.bits[0:4])\n",
    "        \n",
    "        for s in range(0, self.num_states):\n",
    "            self.transitions_no_food.insert(s, fourbits2int( *self.bits[(4 + s*12):(8 + s*12)] ) )\n",
    "            self.actions_no_food.insert(s, twobits2int( *self.bits[(8 + s*12):(10 + s*12)] ) )\n",
    "            \n",
    "            self.transitions_food.insert(s, fourbits2int( *self.bits[(10 + s*12):(14 + s*12)] ) )\n",
    "            self.actions_food.insert(s, twobits2int( *self.bits[(14 + s*12):(16 + s*12)] ) )\n"
   ]
  },
  {
   "cell_type": "code",
   "execution_count": 6,
   "metadata": {},
   "outputs": [],
   "source": [
    "# Ant Class\n",
    "\n",
    "class AntSimulator(Genome):\n",
    "    direction = [\"north\", \"east\",\"south\", \"west\"]\n",
    "    dir_row = [-1, 0, 1, 0]\n",
    "    dir_col = [0, 1, 0, -1]\n",
    "    \n",
    "    \n",
    "    def __init__(self, Genome):\n",
    "        self.max_moves = 200\n",
    "        self.moves = 0\n",
    "        self.eaten = 0\n",
    "        self.routine = None\n",
    "        self.genotype = Genome\n",
    "        self.current_state = self.genotype.start_state\n",
    "        self.memorize_map()\n",
    "        \n",
    "        \n",
    "    def _reset(self):\n",
    "        self.row = self.row_start \n",
    "        self.col = self.col_start \n",
    "        self.dir = self.genotype.start_state % 4\n",
    "        self.moves = 0\n",
    "        self.eaten = 0\n",
    "        self.current_state = self.genotype.start_state\n",
    "        self.matrix_exc = copy.deepcopy(self.matrix)\n",
    "        self.matrix_exc2 = copy.deepcopy(self.matrix_exc)\n",
    "        \n",
    "        \n",
    "    @property\n",
    "    def position(self):\n",
    "        return (self.row, self.col, self.direction[self.dir])\n",
    "    \n",
    "    def memorize_map(self):\n",
    "        with  open(\"./map.json\") as trail_file:\n",
    "            self.matrix = json.load(trail_file)\n",
    "            self.total_food = sum(map(sum, self.matrix))\n",
    "            self.matrix = [[\".\" if col == 0 else \"X\" for col in row] for row in self.matrix]\n",
    "            self.row_start = self.row = 0\n",
    "            self.col_start = self.col = 0\n",
    "#             self.dir = 1\n",
    "            self.matrix_row = len(self.matrix)\n",
    "            self.matrix_col = len(self.matrix[0])\n",
    "            self.matrix_exc = copy.deepcopy(self.matrix)\n",
    "            self.matrix_exc2 = copy.deepcopy(self.matrix_exc)\n",
    "            self.row_start = self.row = 0\n",
    "            self.col_start = self.col = 0\n",
    "            \n",
    "    def turn_left(self): \n",
    "        self.dir = (self.dir - 1) % 4\n",
    "\n",
    "    def turn_right(self): \n",
    "        self.dir = (self.dir + 1) % 4\n",
    "        \n",
    "    def move_forward(self):\n",
    "        self.row = (self.row + self.dir_row[self.dir]) % self.matrix_row\n",
    "        self.col = (self.col + self.dir_col[self.dir]) % self.matrix_col\n",
    "#         print(\"moving forward\")\n",
    "        if self.matrix_exc[self.row][self.col] == \"X\":\n",
    "            self.eaten += 1\n",
    "\n",
    "    def do_nothing(self):\n",
    "        pass        \n",
    "    \n",
    "    def sense_food(self):\n",
    "        ahead_row = (self.row + self.dir_row[self.dir]) % self.matrix_row\n",
    "        ahead_col = (self.col + self.dir_col[self.dir]) % self.matrix_col \n",
    "#         print(\"sensing food\")\n",
    "        return self.matrix_exc[ahead_row][ahead_col] == \"X\"\n",
    "   \n",
    "\n",
    "    def if_food_ahead(self, out1, out2):\n",
    "        return partial(if_then_else, self.sense_food, out1, out2)\n",
    "    \n",
    "#     Food:    ( [3, 3, 3, 3, 3], [0, 0, 0, 0, 0] )\n",
    "#     No Food: ( [1, 1, 1, 1, 3], [1, 2, 3, 4, 0] )\n",
    "\n",
    "    def action_to_take(self, action):\n",
    "        actions = {\n",
    "        0: self.do_nothing,\n",
    "        1: self.turn_right,\n",
    "        2: self.turn_left, \n",
    "        3: self.move_forward,\n",
    "        \n",
    "        }\n",
    "        return actions[action]\n",
    "    \n",
    "    \n",
    "    def run(self):\n",
    "        self._reset()\n",
    "#         print(\"start state: {} \\n \\\n",
    "#                 food: {} - {} \\n \\\n",
    "#                 no food: {} - {} \\n\".format(ant.genotype.start_state, \n",
    "#                                             ant.genotype.actions_food, ant.genotype.transitions_food, \n",
    "#                                             ant.genotype.actions_no_food, ant.genotype.transitions_no_food))\n",
    "        while (self.moves < self.max_moves) and (self.eaten < self.total_food):\n",
    "            self.matrix_exc[self.row][self.col] = str(self.current_state)\n",
    "            self.matrix_exc2[self.row][self.col] = str(self.dir)\n",
    "            if self.sense_food():\n",
    "                self.action_to_take(self.genotype.actions_food[self.current_state % 16 ])()\n",
    "                self.current_state = self.genotype.transitions_food[self.current_state % 16 ]\n",
    "            else:\n",
    "                self.action_to_take(self.genotype.actions_no_food[self.current_state % 16 ])()\n",
    "                self.current_state = self.genotype.transitions_no_food[self.current_state % 16]\n",
    "            self.moves += 1\n",
    "#             print(self.current_state)\n",
    "#             print(\"self.dir = {}\".format(self.dir))\n",
    "        return self.eaten\n",
    "    "
   ]
  },
  {
   "cell_type": "markdown",
   "metadata": {},
   "source": [
    "## ---------\n",
    "### -----------------------------------------------\n",
    "## ---------"
   ]
  },
  {
   "cell_type": "code",
   "execution_count": 7,
   "metadata": {
    "scrolled": true
   },
   "outputs": [],
   "source": [
    "creator.create(\"FitnessMax\", base.Fitness, weights=(1.0,))\n",
    "creator.create(\"Individual\", list, fitness=creator.FitnessMax )"
   ]
  },
  {
   "cell_type": "code",
   "execution_count": 8,
   "metadata": {},
   "outputs": [],
   "source": [
    "toolbox = base.Toolbox()\n",
    "random.seed(69)\n",
    "\n",
    "# Structure initializers\n",
    "toolbox.register(\"zero_or_one\", random.randint, 0, 1)\n",
    "toolbox.register(\"individual\", tools.initRepeat, creator.Individual, toolbox.zero_or_one, 196)\n",
    "toolbox.register(\"population\", tools.initRepeat, list, toolbox.individual)\n"
   ]
  },
  {
   "cell_type": "code",
   "execution_count": 9,
   "metadata": {},
   "outputs": [],
   "source": [
    "def evaluate_genome(individual):\n",
    "    ant = AntSimulator(Genome(individual))\n",
    "    eaten = ant.run()\n",
    "#     print(ant.moves)\n",
    "    return eaten,"
   ]
  },
  {
   "cell_type": "code",
   "execution_count": 15,
   "metadata": {},
   "outputs": [],
   "source": [
    "toolbox.register(\"evaluate\", evaluate_genome)\n",
    "toolbox.register(\"select\", tools.selTournament, tournsize=10)\n",
    "toolbox.register(\"mate\", tools.cxTwoPoint)\n",
    "toolbox.register(\"mutate\", tools.mutFlipBit, indpb=0.01)"
   ]
  },
  {
   "cell_type": "code",
   "execution_count": 16,
   "metadata": {
    "scrolled": false
   },
   "outputs": [],
   "source": [
    "def main():\n",
    "    random.seed(69)\n",
    "    pop = toolbox.population(n=500)\n",
    "    hof = tools.HallOfFame(1)\n",
    "    stats = tools.Statistics(lambda ind: ind.fitness.values)\n",
    "    stats.register(\"avg\", np.mean)\n",
    "    stats.register(\"std\", np.std)\n",
    "#     stats.register(\"min\", np.min)\n",
    "    stats.register(\"max\", np.max)\n",
    "    \n",
    "    pop, log = algorithms.eaSimple(pop, toolbox, 0.05, 0.9, 10000, stats=stats, verbose=True) #halloffame=hof, \n",
    "    print('done')\n",
    "    return pop, log"
   ]
  },
  {
   "cell_type": "code",
   "execution_count": null,
   "metadata": {
    "scrolled": true
   },
   "outputs": [
    {
     "name": "stdout",
     "output_type": "stream",
     "text": [
      "gen\tnevals\tavg  \tstd    \tmax\n",
      "0  \t500   \t3.872\t9.41783\t58 \n",
      "1  \t448   \t18.166\t16.3477\t62 \n",
      "2  \t456   \t31.11 \t17.5983\t62 \n",
      "3  \t441   \t37.58 \t17.207 \t62 \n",
      "4  \t461   \t41.264\t19.4192\t66 \n",
      "5  \t453   \t43.154\t20.0837\t68 \n",
      "6  \t451   \t42.398\t21.212 \t68 \n",
      "7  \t442   \t42.946\t23.0375\t68 \n",
      "8  \t453   \t41.668\t24.8627\t68 \n",
      "9  \t454   \t44.948\t24.6008\t68 \n",
      "10 \t456   \t44.958\t23.9713\t68 \n",
      "11 \t454   \t45.958\t23.0252\t68 \n",
      "12 \t455   \t44.67 \t24.2427\t68 \n",
      "13 \t451   \t45.298\t24.3758\t68 \n",
      "14 \t447   \t46.624\t23.2261\t68 \n",
      "15 \t453   \t43.8  \t24.403 \t68 \n",
      "16 \t447   \t45.296\t24.0076\t68 \n",
      "17 \t457   \t42.944\t24.2687\t68 \n",
      "18 \t455   \t45.55 \t23.7089\t68 \n",
      "19 \t451   \t46.032\t24.0645\t68 \n",
      "20 \t453   \t44.678\t23.258 \t68 \n",
      "21 \t453   \t46.634\t23.1455\t68 \n",
      "22 \t444   \t47.058\t23.2192\t68 \n",
      "23 \t444   \t46.156\t23.8611\t68 \n",
      "24 \t454   \t45.436\t23.7021\t68 \n",
      "25 \t460   \t45.168\t23.5175\t68 \n",
      "26 \t449   \t44.252\t24.1695\t68 \n",
      "27 \t450   \t47.134\t23.9107\t68 \n",
      "28 \t465   \t46.478\t23.3782\t68 \n",
      "29 \t453   \t44.92 \t23.1498\t68 \n",
      "30 \t455   \t44.576\t23.9408\t68 \n",
      "31 \t456   \t45.8  \t23.5324\t68 \n",
      "32 \t464   \t46.432\t23.3637\t68 \n",
      "33 \t462   \t44.742\t24.213 \t72 \n",
      "34 \t443   \t45.552\t23.3772\t72 \n",
      "35 \t458   \t44.494\t23.9294\t72 \n",
      "36 \t463   \t44.528\t24.5748\t72 \n",
      "37 \t452   \t48.616\t23.3306\t72 \n",
      "38 \t444   \t48.574\t23.6401\t72 \n",
      "39 \t437   \t49.832\t23.3195\t72 \n",
      "40 \t449   \t49.758\t22.6813\t72 \n",
      "41 \t456   \t48.704\t23.0776\t72 \n",
      "42 \t447   \t48.91 \t23.168 \t72 \n",
      "43 \t451   \t49.434\t23.9784\t72 \n",
      "44 \t455   \t48.562\t23.8531\t72 \n",
      "45 \t452   \t49.876\t23.4374\t78 \n",
      "46 \t454   \t48.522\t24.3988\t76 \n",
      "47 \t445   \t48.952\t24.3036\t76 \n",
      "48 \t448   \t47.472\t24.0447\t76 \n",
      "49 \t452   \t49.024\t25.5344\t78 \n",
      "50 \t448   \t50.026\t25.9622\t78 \n",
      "51 \t457   \t50.302\t27.4783\t79 \n"
     ]
    }
   ],
   "source": [
    "pop, log = main()"
   ]
  },
  {
   "cell_type": "code",
   "execution_count": null,
   "metadata": {},
   "outputs": [],
   "source": []
  },
  {
   "cell_type": "code",
   "execution_count": null,
   "metadata": {},
   "outputs": [],
   "source": []
  },
  {
   "cell_type": "code",
   "execution_count": null,
   "metadata": {},
   "outputs": [],
   "source": []
  },
  {
   "cell_type": "code",
   "execution_count": null,
   "metadata": {},
   "outputs": [],
   "source": []
  },
  {
   "cell_type": "code",
   "execution_count": null,
   "metadata": {},
   "outputs": [],
   "source": []
  },
  {
   "cell_type": "code",
   "execution_count": null,
   "metadata": {},
   "outputs": [],
   "source": []
  },
  {
   "cell_type": "code",
   "execution_count": null,
   "metadata": {},
   "outputs": [],
   "source": []
  },
  {
   "cell_type": "code",
   "execution_count": null,
   "metadata": {},
   "outputs": [],
   "source": []
  },
  {
   "cell_type": "code",
   "execution_count": null,
   "metadata": {},
   "outputs": [],
   "source": []
  },
  {
   "cell_type": "code",
   "execution_count": null,
   "metadata": {},
   "outputs": [],
   "source": []
  },
  {
   "cell_type": "code",
   "execution_count": null,
   "metadata": {},
   "outputs": [],
   "source": []
  },
  {
   "cell_type": "code",
   "execution_count": 19,
   "metadata": {},
   "outputs": [],
   "source": [
    "# import pickle\n",
    "# with open(\"log_86_ant_200_gen.pkl\", \"wb\") as output_file:\n",
    "#     pickle.dump(log, output_file)\n",
    "\n",
    "# with open(\"pop_86_ant_200_gen.pkl\", \"wb\") as output_file:\n",
    "#     pickle.dump(pop, output_file)"
   ]
  },
  {
   "cell_type": "code",
   "execution_count": null,
   "metadata": {},
   "outputs": [],
   "source": []
  },
  {
   "cell_type": "code",
   "execution_count": 21,
   "metadata": {},
   "outputs": [],
   "source": []
  },
  {
   "cell_type": "code",
   "execution_count": 22,
   "metadata": {},
   "outputs": [],
   "source": []
  },
  {
   "cell_type": "code",
   "execution_count": 481,
   "metadata": {},
   "outputs": [],
   "source": [
    "best = tools.selBest(pop, 1)[0]"
   ]
  },
  {
   "cell_type": "code",
   "execution_count": null,
   "metadata": {},
   "outputs": [],
   "source": []
  },
  {
   "cell_type": "code",
   "execution_count": null,
   "metadata": {},
   "outputs": [],
   "source": []
  },
  {
   "cell_type": "code",
   "execution_count": null,
   "metadata": {},
   "outputs": [],
   "source": []
  },
  {
   "cell_type": "code",
   "execution_count": null,
   "metadata": {},
   "outputs": [],
   "source": []
  },
  {
   "cell_type": "code",
   "execution_count": null,
   "metadata": {},
   "outputs": [],
   "source": []
  },
  {
   "cell_type": "code",
   "execution_count": null,
   "metadata": {},
   "outputs": [],
   "source": []
  },
  {
   "cell_type": "code",
   "execution_count": null,
   "metadata": {},
   "outputs": [],
   "source": []
  },
  {
   "cell_type": "code",
   "execution_count": null,
   "metadata": {},
   "outputs": [],
   "source": []
  },
  {
   "cell_type": "code",
   "execution_count": null,
   "metadata": {},
   "outputs": [],
   "source": []
  },
  {
   "cell_type": "code",
   "execution_count": null,
   "metadata": {},
   "outputs": [],
   "source": []
  },
  {
   "cell_type": "code",
   "execution_count": null,
   "metadata": {},
   "outputs": [],
   "source": []
  },
  {
   "cell_type": "code",
   "execution_count": null,
   "metadata": {},
   "outputs": [],
   "source": []
  },
  {
   "cell_type": "code",
   "execution_count": null,
   "metadata": {},
   "outputs": [],
   "source": []
  },
  {
   "cell_type": "code",
   "execution_count": null,
   "metadata": {},
   "outputs": [],
   "source": []
  },
  {
   "cell_type": "code",
   "execution_count": null,
   "metadata": {},
   "outputs": [],
   "source": []
  }
 ],
 "metadata": {
  "kernelspec": {
   "display_name": "Python 3",
   "language": "python",
   "name": "python3"
  },
  "language_info": {
   "codemirror_mode": {
    "name": "ipython",
    "version": 3
   },
   "file_extension": ".py",
   "mimetype": "text/x-python",
   "name": "python",
   "nbconvert_exporter": "python",
   "pygments_lexer": "ipython3",
   "version": "3.6.6"
  }
 },
 "nbformat": 4,
 "nbformat_minor": 2
}
