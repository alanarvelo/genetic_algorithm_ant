{
 "cells": [
  {
   "cell_type": "code",
   "execution_count": 1,
   "metadata": {
    "scrolled": true
   },
   "outputs": [
    {
     "name": "stdout",
     "output_type": "stream",
     "text": [
      "Once deleted, variables cannot be recovered. Proceed (y/[n])? y\n"
     ]
    }
   ],
   "source": [
    "%reset"
   ]
  },
  {
   "cell_type": "code",
   "execution_count": 2,
   "metadata": {},
   "outputs": [],
   "source": [
    "import random\n",
    "import json\n",
    "import numpy as np, pandas as pd\n",
    "from deap import base, creator, tools, algorithms, gp\n",
    "from pprint import pprint\n",
    "from dask.diagnostics import ProgressBar\n",
    "import copy\n",
    "from functools import partial"
   ]
  },
  {
   "cell_type": "code",
   "execution_count": 3,
   "metadata": {},
   "outputs": [
    {
     "data": {
      "text/html": [
       "<style>.container { width:90% !important; }</style>"
      ],
      "text/plain": [
       "<IPython.core.display.HTML object>"
      ]
     },
     "metadata": {},
     "output_type": "display_data"
    }
   ],
   "source": [
    "from IPython.core.display import display, HTML\n",
    "display(HTML(\"<style>.container { width:90% !important; }</style>\"))"
   ]
  },
  {
   "cell_type": "code",
   "execution_count": 4,
   "metadata": {},
   "outputs": [],
   "source": [
    "# utility functions\n",
    "\n",
    "def progn(*args):\n",
    "    for arg in args:\n",
    "        arg()\n",
    "\n",
    "def prog2(out1, out2): \n",
    "    return partial(progn,out1,out2)\n",
    "\n",
    "def prog3(out1, out2, out3):     \n",
    "    return partial(progn,out1,out2,out3)\n",
    "\n",
    "def if_then_else(condition, out1, out2):\n",
    "    print(\"if then else\")\n",
    "    out1() if condition() else out2()\n",
    "    \n",
    "def fourbits2int(b3, b2, b1, b0):\n",
    "    return b0*1 + b1*2 + b2*4 + b3*8\n",
    "\n",
    "def twobits2int(b1, b0):\n",
    "    return b0*1 + b1*2\n",
    "\n",
    "def show_map(mtx):\n",
    "    for row in mtx:\n",
    "        print(\" \".join(map(str, row)))"
   ]
  },
  {
   "cell_type": "code",
   "execution_count": 5,
   "metadata": {},
   "outputs": [],
   "source": [
    "class Genome(list):\n",
    "    num_states = 16\n",
    "#     genome = \"01000101000011001001000011001101000011010001000011000011000011\" # 62 in length\n",
    "#     genome_list = [int(x) for x in genome_list]\n",
    "    \n",
    "    def __init__(self, genome):\n",
    "        self.transitions_food = []\n",
    "        self.actions_food = []\n",
    "        self.transitions_no_food = []\n",
    "        self.actions_no_food = []\n",
    "        self.bits = genome\n",
    "        self.start_state = fourbits2int(*self.bits[0:4])\n",
    "        \n",
    "        for s in range(0, self.num_states):\n",
    "            self.transitions_no_food.insert(s, fourbits2int( *self.bits[(4 + s*12):(8 + s*12)] ) )\n",
    "            self.actions_no_food.insert(s, twobits2int( *self.bits[(8 + s*12):(10 + s*12)] ) )\n",
    "            \n",
    "            self.transitions_food.insert(s, fourbits2int( *self.bits[(10 + s*12):(14 + s*12)] ) )\n",
    "            self.actions_food.insert(s, twobits2int( *self.bits[(14 + s*12):(16 + s*12)] ) )\n"
   ]
  },
  {
   "cell_type": "code",
   "execution_count": 6,
   "metadata": {},
   "outputs": [],
   "source": [
    "# Ant Class\n",
    "\n",
    "class AntSimulator(Genome):\n",
    "    direction = [\"north\", \"east\",\"south\", \"west\"]\n",
    "    dir_row = [-1, 0, 1, 0]\n",
    "    dir_col = [0, 1, 0, -1]\n",
    "    \n",
    "    \n",
    "    def __init__(self, Genome):\n",
    "        self.max_moves = 200\n",
    "        self.moves = 0\n",
    "        self.eaten = 0\n",
    "        self.routine = None\n",
    "        self.genotype = Genome\n",
    "        self.current_state = self.genotype.start_state\n",
    "        self.memorize_map()\n",
    "        \n",
    "        \n",
    "    def _reset(self):\n",
    "        self.row = self.row_start \n",
    "        self.col = self.col_start \n",
    "        self.dir = self.genotype.start_state % 4\n",
    "        self.moves = 0\n",
    "        self.eaten = 0\n",
    "        self.current_state = self.genotype.start_state\n",
    "        self.matrix_exc = copy.deepcopy(self.matrix)\n",
    "        self.matrix_exc2 = copy.deepcopy(self.matrix_exc)\n",
    "        \n",
    "        \n",
    "    @property\n",
    "    def position(self):\n",
    "        return (self.row, self.col, self.direction[self.dir])\n",
    "    \n",
    "    def memorize_map(self):\n",
    "        with  open(\"./map.json\") as trail_file:\n",
    "            self.matrix = json.load(trail_file)\n",
    "            self.total_food = sum(map(sum, self.matrix))\n",
    "            self.matrix = [[\".\" if col == 0 else \"X\" for col in row] for row in self.matrix]\n",
    "            self.row_start = self.row = 0\n",
    "            self.col_start = self.col = 0\n",
    "#             self.dir = 1\n",
    "            self.matrix_row = len(self.matrix)\n",
    "            self.matrix_col = len(self.matrix[0])\n",
    "            self.matrix_exc = copy.deepcopy(self.matrix)\n",
    "            self.matrix_exc2 = copy.deepcopy(self.matrix_exc)\n",
    "            self.row_start = self.row = 0\n",
    "            self.col_start = self.col = 0\n",
    "            \n",
    "    def turn_left(self): \n",
    "        self.dir = (self.dir - 1) % 4\n",
    "\n",
    "    def turn_right(self): \n",
    "        self.dir = (self.dir + 1) % 4\n",
    "        \n",
    "    def move_forward(self):\n",
    "        self.row = (self.row + self.dir_row[self.dir]) % self.matrix_row\n",
    "        self.col = (self.col + self.dir_col[self.dir]) % self.matrix_col\n",
    "#         print(\"moving forward\")\n",
    "        if self.matrix_exc[self.row][self.col] == \"X\":\n",
    "            self.eaten += 1\n",
    "\n",
    "    def do_nothing(self):\n",
    "        pass        \n",
    "    \n",
    "    def sense_food(self):\n",
    "        ahead_row = (self.row + self.dir_row[self.dir]) % self.matrix_row\n",
    "        ahead_col = (self.col + self.dir_col[self.dir]) % self.matrix_col \n",
    "#         print(\"sensing food\")\n",
    "        return self.matrix_exc[ahead_row][ahead_col] == \"X\"\n",
    "   \n",
    "\n",
    "    def if_food_ahead(self, out1, out2):\n",
    "        return partial(if_then_else, self.sense_food, out1, out2)\n",
    "    \n",
    "#     Food:    ( [3, 3, 3, 3, 3], [0, 0, 0, 0, 0] )\n",
    "#     No Food: ( [1, 1, 1, 1, 3], [1, 2, 3, 4, 0] )\n",
    "\n",
    "    def action_to_take(self, action):\n",
    "        actions = {\n",
    "        0: self.do_nothing,\n",
    "        1: self.turn_right,\n",
    "        2: self.turn_left, \n",
    "        3: self.move_forward,\n",
    "        \n",
    "        }\n",
    "        return actions[action]\n",
    "    \n",
    "    \n",
    "    def run(self):\n",
    "        self._reset()\n",
    "#         print(\"start state: {} \\n \\\n",
    "#                 food: {} - {} \\n \\\n",
    "#                 no food: {} - {} \\n\".format(ant.genotype.start_state, \n",
    "#                                             ant.genotype.actions_food, ant.genotype.transitions_food, \n",
    "#                                             ant.genotype.actions_no_food, ant.genotype.transitions_no_food))\n",
    "        while (self.moves < self.max_moves) and (self.eaten < self.total_food):\n",
    "            self.matrix_exc[self.row][self.col] = str(self.current_state)\n",
    "            self.matrix_exc2[self.row][self.col] = str(self.dir)\n",
    "            if self.sense_food():\n",
    "                self.action_to_take(self.genotype.actions_food[self.current_state % 16 ])()\n",
    "                self.current_state = self.genotype.transitions_food[self.current_state % 16 ]\n",
    "            else:\n",
    "                self.action_to_take(self.genotype.actions_no_food[self.current_state % 16 ])()\n",
    "                self.current_state = self.genotype.transitions_no_food[self.current_state % 16]\n",
    "            self.moves += 1\n",
    "#             print(self.current_state)\n",
    "#             print(\"self.dir = {}\".format(self.dir))\n",
    "        return self.eaten\n",
    "    "
   ]
  },
  {
   "cell_type": "markdown",
   "metadata": {},
   "source": [
    "## ---------\n",
    "### -----------------------------------------------\n",
    "## ---------"
   ]
  },
  {
   "cell_type": "code",
   "execution_count": 7,
   "metadata": {
    "scrolled": true
   },
   "outputs": [],
   "source": [
    "creator.create(\"FitnessMax\", base.Fitness, weights=(1.0,))\n",
    "creator.create(\"Individual\", list, fitness=creator.FitnessMax )"
   ]
  },
  {
   "cell_type": "code",
   "execution_count": 8,
   "metadata": {},
   "outputs": [],
   "source": [
    "toolbox = base.Toolbox()\n",
    "random.seed(69)\n",
    "\n",
    "# Structure initializers\n",
    "toolbox.register(\"zero_or_one\", random.randint, 0, 1)\n",
    "toolbox.register(\"individual\", tools.initRepeat, creator.Individual, toolbox.zero_or_one, 196)\n",
    "toolbox.register(\"population\", tools.initRepeat, list, toolbox.individual)\n"
   ]
  },
  {
   "cell_type": "code",
   "execution_count": 9,
   "metadata": {},
   "outputs": [],
   "source": [
    "def evaluate_genome(individual):\n",
    "    ant = AntSimulator(Genome(individual))\n",
    "    eaten = ant.run()\n",
    "#     print(ant.moves)\n",
    "    return eaten,"
   ]
  },
  {
   "cell_type": "code",
   "execution_count": 16,
   "metadata": {},
   "outputs": [],
   "source": [
    "toolbox.register(\"evaluate\", evaluate_genome)\n",
    "toolbox.register(\"select\", tools.selTournament, tournsize=10)\n",
    "toolbox.register(\"mate\", tools.cxTwoPoint)\n",
    "toolbox.register(\"mutate\", tools.mutFlipBit, indpb=0.01)"
   ]
  },
  {
   "cell_type": "code",
   "execution_count": 19,
   "metadata": {
    "scrolled": false
   },
   "outputs": [],
   "source": [
    "def main():\n",
    "    random.seed(69)\n",
    "    pop = toolbox.population(n=1000)\n",
    "    hof = tools.HallOfFame(1)\n",
    "    stats = tools.Statistics(lambda ind: ind.fitness.values)\n",
    "    stats.register(\"avg\", np.mean)\n",
    "    stats.register(\"std\", np.std)\n",
    "#     stats.register(\"min\", np.min)\n",
    "    stats.register(\"max\", np.max)\n",
    "    \n",
    "    pop, log = algorithms.eaSimple(pop, toolbox, 0.1, 0.8, 200, stats=stats, verbose=True) #halloffame=hof, \n",
    "    print('done')\n",
    "    return pop, log"
   ]
  },
  {
   "cell_type": "code",
   "execution_count": null,
   "metadata": {
    "scrolled": true
   },
   "outputs": [
    {
     "name": "stdout",
     "output_type": "stream",
     "text": [
      "gen\tnevals\tavg  \tstd    \tmax\n",
      "0  \t1000  \t3.243\t8.37794\t58 \n",
      "1  \t830   \t11.888\t13.909 \t58 \n",
      "2  \t834   \t24.638\t16.7281\t58 \n",
      "3  \t823   \t33.843\t16.8569\t59 \n",
      "4  \t847   \t36.391\t18.4467\t59 \n",
      "5  \t826   \t39.334\t20.4262\t59 \n",
      "6  \t822   \t41.444\t22.1128\t59 \n",
      "7  \t839   \t41.918\t22.2241\t59 \n",
      "8  \t817   \t42.17 \t21.7409\t59 \n",
      "9  \t805   \t43.927\t21.1179\t74 \n",
      "10 \t800   \t43.797\t21.4441\t74 \n",
      "11 \t805   \t44.85 \t21.2847\t74 \n",
      "12 \t840   \t44.096\t22.5418\t74 \n",
      "13 \t811   \t47.201\t23.4495\t74 \n",
      "14 \t827   \t51.239\t26.1868\t74 \n",
      "15 \t823   \t53.91 \t27.595 \t74 \n",
      "16 \t832   \t53.86 \t28.5485\t74 \n",
      "17 \t835   \t53.345\t28.4543\t74 \n",
      "18 \t796   \t54.606\t27.8443\t74 \n",
      "19 \t824   \t53.361\t28.2699\t74 \n",
      "20 \t813   \t53.4  \t28.4791\t74 \n",
      "21 \t829   \t54.588\t27.9898\t74 \n",
      "22 \t818   \t55.727\t27.0154\t74 \n",
      "23 \t827   \t55.572\t27.4224\t74 \n",
      "24 \t826   \t55.007\t27.6819\t76 \n",
      "25 \t824   \t53.139\t28.8572\t76 \n",
      "26 \t825   \t54.786\t27.677 \t76 \n",
      "27 \t800   \t55.504\t27.7785\t78 \n",
      "28 \t813   \t56.149\t27.3599\t78 \n",
      "29 \t821   \t55.716\t28.1133\t79 \n",
      "30 \t827   \t57.073\t28.5658\t79 \n",
      "31 \t854   \t57.015\t28.909 \t79 \n",
      "32 \t800   \t58.572\t27.8633\t79 \n",
      "33 \t806   \t57.112\t28.9232\t79 \n",
      "34 \t827   \t55.039\t29.664 \t79 \n",
      "35 \t810   \t56.749\t28.3421\t79 \n",
      "36 \t824   \t56.677\t28.3927\t79 \n",
      "37 \t813   \t55.533\t28.1202\t79 \n",
      "38 \t839   \t57.517\t26.6665\t79 \n",
      "39 \t837   \t57.137\t26.6328\t80 \n",
      "40 \t819   \t55.934\t27.7715\t79 \n",
      "41 \t823   \t57.842\t27.1395\t80 \n",
      "42 \t825   \t56.589\t27.7172\t80 \n",
      "43 \t829   \t58.785\t26.5041\t80 \n",
      "44 \t805   \t58.382\t26.8405\t80 \n",
      "45 \t837   \t58.898\t26.5634\t80 \n",
      "46 \t814   \t57.892\t26.739 \t80 \n",
      "47 \t838   \t58.017\t26.1755\t80 \n",
      "48 \t819   \t59.147\t26.849 \t80 \n",
      "49 \t816   \t59.07 \t26.6592\t80 \n",
      "50 \t819   \t57.424\t27.4705\t80 \n",
      "51 \t839   \t56.673\t26.4799\t80 \n",
      "52 \t804   \t59.644\t25.5618\t80 \n",
      "53 \t843   \t59.221\t26.6107\t80 \n",
      "54 \t819   \t59.041\t26.0954\t80 \n",
      "55 \t819   \t60.023\t26.1502\t80 \n",
      "56 \t827   \t58.496\t26.3448\t80 \n",
      "57 \t814   \t58.546\t26.9646\t80 \n",
      "58 \t811   \t58.096\t26.5943\t80 \n",
      "59 \t822   \t59.117\t26.584 \t80 \n",
      "60 \t818   \t58.142\t26.6584\t80 \n",
      "61 \t820   \t58.083\t26.9109\t80 \n",
      "62 \t823   \t59.542\t26.0737\t80 \n",
      "63 \t813   \t58.486\t26.9791\t80 \n",
      "64 \t800   \t57.466\t27.1831\t80 \n",
      "65 \t828   \t57.086\t27.0938\t80 \n",
      "66 \t822   \t57.75 \t27.2617\t80 \n",
      "67 \t822   \t57.637\t27.2122\t80 \n",
      "68 \t828   \t58.206\t27.2437\t80 \n",
      "69 \t825   \t56.478\t27.6564\t80 \n",
      "70 \t829   \t57.402\t26.9091\t80 \n",
      "71 \t813   \t58.421\t27.0725\t80 \n",
      "72 \t814   \t59.132\t26.7322\t80 \n",
      "73 \t818   \t57.657\t27.4913\t80 \n",
      "74 \t816   \t57.743\t27.2375\t80 \n",
      "75 \t815   \t59.113\t26.8146\t80 \n",
      "76 \t790   \t58.053\t27.6378\t80 \n",
      "77 \t814   \t58.755\t26.9329\t80 \n",
      "78 \t819   \t57.941\t27.3325\t80 \n",
      "79 \t837   \t56.614\t27.9226\t80 \n",
      "80 \t792   \t58.8  \t26.8195\t80 \n",
      "81 \t818   \t57.362\t27.4445\t80 \n",
      "82 \t804   \t59.526\t25.9219\t80 \n",
      "83 \t821   \t57.424\t27.8229\t80 \n",
      "84 \t808   \t59.736\t26.4076\t80 \n",
      "85 \t818   \t58.527\t26.642 \t80 \n",
      "86 \t803   \t58.273\t27.4717\t80 \n",
      "87 \t846   \t57.501\t27.9224\t80 \n",
      "88 \t818   \t58.572\t27.3087\t80 \n",
      "89 \t838   \t58.495\t27.6362\t80 \n",
      "90 \t840   \t57.187\t28.4132\t80 \n",
      "91 \t825   \t58.607\t27.2498\t80 \n",
      "92 \t821   \t58.629\t27.9914\t80 \n",
      "93 \t828   \t57.288\t27.9891\t80 \n",
      "94 \t817   \t58.31 \t27.9643\t80 \n",
      "95 \t808   \t56.839\t28.7451\t80 \n",
      "96 \t827   \t58.303\t27.9791\t80 \n",
      "97 \t833   \t57.827\t28.1352\t80 \n",
      "98 \t809   \t59.446\t27.2906\t80 \n",
      "99 \t801   \t60.228\t27.4818\t80 \n",
      "100\t799   \t59.479\t27.6258\t80 \n",
      "101\t825   \t59.239\t27.9379\t80 \n",
      "102\t827   \t58.994\t28.1956\t80 \n",
      "103\t824   \t59.861\t27.9561\t80 \n",
      "104\t809   \t58.477\t28.796 \t80 \n",
      "105\t818   \t59.785\t27.556 \t80 \n",
      "106\t822   \t58.445\t28.6304\t80 \n",
      "107\t802   \t60.015\t27.9242\t80 \n",
      "108\t804   \t61.11 \t27.3864\t80 \n",
      "109\t831   \t59.605\t28.3164\t80 \n",
      "110\t805   \t58.923\t28.6848\t80 \n",
      "111\t813   \t58.286\t28.9339\t80 \n",
      "112\t844   \t58.913\t28.4129\t80 \n",
      "113\t811   \t59.312\t28.225 \t80 \n",
      "114\t831   \t58.007\t29.1244\t80 \n",
      "115\t811   \t58.351\t28.6081\t80 \n",
      "116\t822   \t58.372\t28.8748\t80 \n",
      "117\t816   \t60.055\t27.9923\t80 \n",
      "118\t820   \t59.376\t28.1896\t80 \n",
      "119\t809   \t58.375\t29.1957\t80 \n",
      "120\t813   \t59.07 \t28.6665\t80 \n",
      "121\t816   \t60.957\t27.7504\t80 \n",
      "122\t847   \t56.61 \t29.2646\t80 \n",
      "123\t805   \t59.304\t28.0571\t80 \n",
      "124\t809   \t60.312\t28.1784\t80 \n",
      "125\t810   \t58.139\t29.3611\t80 \n",
      "126\t812   \t60.215\t27.9805\t80 \n",
      "127\t827   \t59.633\t28.1046\t80 \n",
      "128\t825   \t59.897\t28.1911\t80 \n",
      "129\t835   \t60.166\t27.4427\t80 \n",
      "130\t823   \t57.411\t28.6555\t80 \n",
      "131\t813   \t60.706\t27.449 \t80 \n",
      "132\t822   \t59.105\t28.6918\t80 \n",
      "133\t814   \t59.972\t28.4283\t80 \n",
      "134\t830   \t61.906\t26.8753\t80 \n",
      "135\t838   \t58.728\t29.0806\t80 \n",
      "136\t829   \t60.357\t27.7952\t80 \n",
      "137\t828   \t59.258\t28.1689\t80 \n",
      "138\t850   \t58.019\t29.1191\t80 \n",
      "139\t815   \t59.259\t27.7796\t80 \n",
      "140\t836   \t58.994\t28.1029\t80 \n",
      "141\t824   \t59.725\t28.0551\t80 \n",
      "142\t823   \t60.377\t27.6458\t80 \n",
      "143\t827   \t59.344\t27.8938\t80 \n",
      "144\t820   \t59.381\t28.58  \t80 \n",
      "145\t829   \t60.153\t27.8719\t80 \n",
      "146\t821   \t59.732\t28.5994\t80 \n"
     ]
    }
   ],
   "source": [
    "pop, log = main()"
   ]
  },
  {
   "cell_type": "code",
   "execution_count": null,
   "metadata": {},
   "outputs": [],
   "source": []
  },
  {
   "cell_type": "code",
   "execution_count": null,
   "metadata": {},
   "outputs": [],
   "source": []
  },
  {
   "cell_type": "code",
   "execution_count": null,
   "metadata": {},
   "outputs": [],
   "source": []
  },
  {
   "cell_type": "code",
   "execution_count": null,
   "metadata": {},
   "outputs": [],
   "source": []
  },
  {
   "cell_type": "code",
   "execution_count": null,
   "metadata": {},
   "outputs": [],
   "source": []
  },
  {
   "cell_type": "code",
   "execution_count": null,
   "metadata": {},
   "outputs": [],
   "source": []
  },
  {
   "cell_type": "code",
   "execution_count": null,
   "metadata": {},
   "outputs": [],
   "source": []
  },
  {
   "cell_type": "code",
   "execution_count": null,
   "metadata": {},
   "outputs": [],
   "source": []
  },
  {
   "cell_type": "code",
   "execution_count": null,
   "metadata": {},
   "outputs": [],
   "source": []
  },
  {
   "cell_type": "code",
   "execution_count": null,
   "metadata": {},
   "outputs": [],
   "source": []
  },
  {
   "cell_type": "code",
   "execution_count": null,
   "metadata": {},
   "outputs": [],
   "source": []
  },
  {
   "cell_type": "code",
   "execution_count": null,
   "metadata": {},
   "outputs": [],
   "source": []
  },
  {
   "cell_type": "code",
   "execution_count": null,
   "metadata": {},
   "outputs": [],
   "source": []
  },
  {
   "cell_type": "code",
   "execution_count": null,
   "metadata": {},
   "outputs": [],
   "source": []
  },
  {
   "cell_type": "code",
   "execution_count": 21,
   "metadata": {},
   "outputs": [],
   "source": [
    "# import pickle\n",
    "# with open(\"log_83_ant.pkl\", \"wb\") as output_file:\n",
    "#     pickle.dump(log, output_file)"
   ]
  },
  {
   "cell_type": "code",
   "execution_count": 22,
   "metadata": {},
   "outputs": [],
   "source": [
    "# with open(\"pop_83_ant.pkl\", \"wb\") as output_file:\n",
    "#     pickle.dump(pop, output_file)"
   ]
  },
  {
   "cell_type": "code",
   "execution_count": 481,
   "metadata": {},
   "outputs": [],
   "source": [
    "best = tools.selBest(pop, 1)[0]"
   ]
  },
  {
   "cell_type": "code",
   "execution_count": null,
   "metadata": {},
   "outputs": [],
   "source": []
  },
  {
   "cell_type": "code",
   "execution_count": null,
   "metadata": {},
   "outputs": [],
   "source": []
  },
  {
   "cell_type": "code",
   "execution_count": null,
   "metadata": {},
   "outputs": [],
   "source": []
  },
  {
   "cell_type": "code",
   "execution_count": null,
   "metadata": {},
   "outputs": [],
   "source": []
  },
  {
   "cell_type": "code",
   "execution_count": null,
   "metadata": {},
   "outputs": [],
   "source": []
  },
  {
   "cell_type": "code",
   "execution_count": null,
   "metadata": {},
   "outputs": [],
   "source": []
  },
  {
   "cell_type": "code",
   "execution_count": null,
   "metadata": {},
   "outputs": [],
   "source": []
  },
  {
   "cell_type": "code",
   "execution_count": null,
   "metadata": {},
   "outputs": [],
   "source": []
  },
  {
   "cell_type": "code",
   "execution_count": null,
   "metadata": {},
   "outputs": [],
   "source": []
  },
  {
   "cell_type": "code",
   "execution_count": null,
   "metadata": {},
   "outputs": [],
   "source": []
  },
  {
   "cell_type": "code",
   "execution_count": null,
   "metadata": {},
   "outputs": [],
   "source": []
  },
  {
   "cell_type": "code",
   "execution_count": null,
   "metadata": {},
   "outputs": [],
   "source": []
  },
  {
   "cell_type": "code",
   "execution_count": null,
   "metadata": {},
   "outputs": [],
   "source": []
  },
  {
   "cell_type": "code",
   "execution_count": null,
   "metadata": {},
   "outputs": [],
   "source": []
  },
  {
   "cell_type": "code",
   "execution_count": null,
   "metadata": {},
   "outputs": [],
   "source": []
  }
 ],
 "metadata": {
  "kernelspec": {
   "display_name": "Python 3",
   "language": "python",
   "name": "python3"
  },
  "language_info": {
   "codemirror_mode": {
    "name": "ipython",
    "version": 3
   },
   "file_extension": ".py",
   "mimetype": "text/x-python",
   "name": "python",
   "nbconvert_exporter": "python",
   "pygments_lexer": "ipython3",
   "version": "3.6.6"
  }
 },
 "nbformat": 4,
 "nbformat_minor": 2
}
