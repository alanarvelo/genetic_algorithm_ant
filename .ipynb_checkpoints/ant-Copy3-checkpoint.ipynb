{
 "cells": [
  {
   "cell_type": "code",
   "execution_count": 1,
   "metadata": {
    "scrolled": true
   },
   "outputs": [
    {
     "name": "stdout",
     "output_type": "stream",
     "text": [
      "Once deleted, variables cannot be recovered. Proceed (y/[n])? y\n"
     ]
    }
   ],
   "source": [
    "%reset"
   ]
  },
  {
   "cell_type": "code",
   "execution_count": 2,
   "metadata": {},
   "outputs": [],
   "source": [
    "import random\n",
    "import json\n",
    "import numpy as np, pandas as pd\n",
    "from deap import base, creator, tools, algorithms, gp\n",
    "from pprint import pprint\n",
    "from dask.diagnostics import ProgressBar\n",
    "import copy\n",
    "from functools import partial"
   ]
  },
  {
   "cell_type": "code",
   "execution_count": 3,
   "metadata": {},
   "outputs": [
    {
     "data": {
      "text/html": [
       "<style>.container { width:90% !important; }</style>"
      ],
      "text/plain": [
       "<IPython.core.display.HTML object>"
      ]
     },
     "metadata": {},
     "output_type": "display_data"
    }
   ],
   "source": [
    "from IPython.core.display import display, HTML\n",
    "display(HTML(\"<style>.container { width:90% !important; }</style>\"))"
   ]
  },
  {
   "cell_type": "code",
   "execution_count": 4,
   "metadata": {},
   "outputs": [],
   "source": [
    "# utility functions\n",
    "\n",
    "def progn(*args):\n",
    "    for arg in args:\n",
    "        arg()\n",
    "\n",
    "def prog2(out1, out2): \n",
    "    return partial(progn,out1,out2)\n",
    "\n",
    "def prog3(out1, out2, out3):     \n",
    "    return partial(progn,out1,out2,out3)\n",
    "\n",
    "def if_then_else(condition, out1, out2):\n",
    "    print(\"if then else\")\n",
    "    out1() if condition() else out2()\n",
    "    \n",
    "def fourbits2int(b3, b2, b1, b0):\n",
    "    return b0*1 + b1*2 + b2*4 + b3*8\n",
    "\n",
    "def twobits2int(b1, b0):\n",
    "    return b0*1 + b1*2\n",
    "\n",
    "def show_map(mtx):\n",
    "    for row in mtx:\n",
    "        print(\" \".join(map(str, row)))"
   ]
  },
  {
   "cell_type": "code",
   "execution_count": 5,
   "metadata": {},
   "outputs": [],
   "source": [
    "class Genome(list):\n",
    "    num_states = 16\n",
    "#     genome = \"01000101000011001001000011001101000011010001000011000011000011\" # 62 in length\n",
    "#     genome_list = [int(x) for x in genome_list]\n",
    "    \n",
    "    def __init__(self, genome):\n",
    "        self.transitions_food = []\n",
    "        self.actions_food = []\n",
    "        self.transitions_no_food = []\n",
    "        self.actions_no_food = []\n",
    "        self.bits = genome\n",
    "        self.start_state = fourbits2int(*self.bits[0:4])\n",
    "        \n",
    "        for s in range(0, self.num_states):\n",
    "            self.transitions_no_food.insert(s, fourbits2int( *self.bits[(4 + s*12):(8 + s*12)] ) )\n",
    "            self.actions_no_food.insert(s, twobits2int( *self.bits[(8 + s*12):(10 + s*12)] ) )\n",
    "            \n",
    "            self.transitions_food.insert(s, fourbits2int( *self.bits[(10 + s*12):(14 + s*12)] ) )\n",
    "            self.actions_food.insert(s, twobits2int( *self.bits[(14 + s*12):(16 + s*12)] ) )\n"
   ]
  },
  {
   "cell_type": "code",
   "execution_count": 6,
   "metadata": {},
   "outputs": [],
   "source": [
    "# Ant Class\n",
    "\n",
    "class AntSimulator(Genome):\n",
    "    direction = [\"north\", \"east\",\"south\", \"west\"]\n",
    "    dir_row = [-1, 0, 1, 0]\n",
    "    dir_col = [0, 1, 0, -1]\n",
    "    \n",
    "    \n",
    "    def __init__(self, Genome):\n",
    "        self.max_moves = 200\n",
    "        self.moves = 0\n",
    "        self.eaten = 0\n",
    "        self.routine = None\n",
    "        self.genotype = Genome\n",
    "        self.current_state = self.genotype.start_state\n",
    "        self.memorize_map()\n",
    "        \n",
    "        \n",
    "    def _reset(self):\n",
    "        self.row = self.row_start \n",
    "        self.col = self.col_start \n",
    "        self.dir = self.genotype.start_state % 4\n",
    "        self.moves = 0\n",
    "        self.eaten = 0\n",
    "        self.current_state = self.genotype.start_state\n",
    "        self.matrix_exc = copy.deepcopy(self.matrix)\n",
    "        self.matrix_exc2 = copy.deepcopy(self.matrix_exc)\n",
    "        \n",
    "        \n",
    "    @property\n",
    "    def position(self):\n",
    "        return (self.row, self.col, self.direction[self.dir])\n",
    "    \n",
    "    def memorize_map(self):\n",
    "        with  open(\"./map.json\") as trail_file:\n",
    "            self.matrix = json.load(trail_file)\n",
    "            self.total_food = sum(map(sum, self.matrix))\n",
    "            self.matrix = [[\".\" if col == 0 else \"X\" for col in row] for row in self.matrix]\n",
    "            self.row_start = self.row = 0\n",
    "            self.col_start = self.col = 0\n",
    "#             self.dir = 1\n",
    "            self.matrix_row = len(self.matrix)\n",
    "            self.matrix_col = len(self.matrix[0])\n",
    "            self.matrix_exc = copy.deepcopy(self.matrix)\n",
    "            self.matrix_exc2 = copy.deepcopy(self.matrix_exc)\n",
    "            self.row_start = self.row = 0\n",
    "            self.col_start = self.col = 0\n",
    "            \n",
    "    def turn_left(self): \n",
    "        self.dir = (self.dir - 1) % 4\n",
    "\n",
    "    def turn_right(self): \n",
    "        self.dir = (self.dir + 1) % 4\n",
    "        \n",
    "    def move_forward(self):\n",
    "        self.row = (self.row + self.dir_row[self.dir]) % self.matrix_row\n",
    "        self.col = (self.col + self.dir_col[self.dir]) % self.matrix_col\n",
    "#         print(\"moving forward\")\n",
    "        if self.matrix_exc[self.row][self.col] == \"X\":\n",
    "            self.eaten += 1\n",
    "\n",
    "    def do_nothing(self):\n",
    "        pass        \n",
    "    \n",
    "    def sense_food(self):\n",
    "        ahead_row = (self.row + self.dir_row[self.dir]) % self.matrix_row\n",
    "        ahead_col = (self.col + self.dir_col[self.dir]) % self.matrix_col \n",
    "#         print(\"sensing food\")\n",
    "        return self.matrix_exc[ahead_row][ahead_col] == \"X\"\n",
    "   \n",
    "\n",
    "    def if_food_ahead(self, out1, out2):\n",
    "        return partial(if_then_else, self.sense_food, out1, out2)\n",
    "    \n",
    "#     Food:    ( [3, 3, 3, 3, 3], [0, 0, 0, 0, 0] )\n",
    "#     No Food: ( [1, 1, 1, 1, 3], [1, 2, 3, 4, 0] )\n",
    "\n",
    "    def action_to_take(self, action):\n",
    "        actions = {\n",
    "        0: self.do_nothing,\n",
    "        1: self.turn_right,\n",
    "        2: self.turn_left, \n",
    "        3: self.move_forward,\n",
    "        \n",
    "        }\n",
    "        return actions[action]\n",
    "    \n",
    "    \n",
    "    def run(self):\n",
    "        self._reset()\n",
    "#         print(\"start state: {} \\n \\\n",
    "#                 food: {} - {} \\n \\\n",
    "#                 no food: {} - {} \\n\".format(ant.genotype.start_state, \n",
    "#                                             ant.genotype.actions_food, ant.genotype.transitions_food, \n",
    "#                                             ant.genotype.actions_no_food, ant.genotype.transitions_no_food))\n",
    "        while (self.moves < self.max_moves) and (self.eaten < self.total_food):\n",
    "            self.matrix_exc[self.row][self.col] = str(self.current_state)\n",
    "            self.matrix_exc2[self.row][self.col] = str(self.dir)\n",
    "            if self.sense_food():\n",
    "                self.action_to_take(self.genotype.actions_food[self.current_state % 16 ])()\n",
    "                self.current_state = self.genotype.transitions_food[self.current_state % 16 ]\n",
    "            else:\n",
    "                self.action_to_take(self.genotype.actions_no_food[self.current_state % 16 ])()\n",
    "                self.current_state = self.genotype.transitions_no_food[self.current_state % 16]\n",
    "            self.moves += 1\n",
    "#             print(self.current_state)\n",
    "#             print(\"self.dir = {}\".format(self.dir))\n",
    "        return self.eaten\n",
    "    "
   ]
  },
  {
   "cell_type": "markdown",
   "metadata": {},
   "source": [
    "## ---------\n",
    "### -----------------------------------------------\n",
    "## ---------"
   ]
  },
  {
   "cell_type": "code",
   "execution_count": 7,
   "metadata": {
    "scrolled": true
   },
   "outputs": [],
   "source": [
    "creator.create(\"FitnessMax\", base.Fitness, weights=(1.0,))\n",
    "creator.create(\"Individual\", list, fitness=creator.FitnessMax )"
   ]
  },
  {
   "cell_type": "code",
   "execution_count": 8,
   "metadata": {},
   "outputs": [],
   "source": [
    "toolbox = base.Toolbox()\n",
    "random.seed(69)\n",
    "\n",
    "# Structure initializers\n",
    "toolbox.register(\"zero_or_one\", random.randint, 0, 1)\n",
    "toolbox.register(\"individual\", tools.initRepeat, creator.Individual, toolbox.zero_or_one, 196)\n",
    "toolbox.register(\"population\", tools.initRepeat, list, toolbox.individual)\n"
   ]
  },
  {
   "cell_type": "code",
   "execution_count": 9,
   "metadata": {},
   "outputs": [],
   "source": [
    "def evaluate_genome(individual):\n",
    "    ant = AntSimulator(Genome(individual))\n",
    "    eaten = ant.run()\n",
    "#     print(ant.moves)\n",
    "    return eaten,"
   ]
  },
  {
   "cell_type": "code",
   "execution_count": 18,
   "metadata": {},
   "outputs": [],
   "source": [
    "toolbox.register(\"evaluate\", evaluate_genome)\n",
    "toolbox.register(\"select\", tools.selTournament, tournsize=4)\n",
    "toolbox.register(\"mate\", tools.cxOnePoint)\n",
    "toolbox.register(\"mutate\", tools.mutFlipBit, indpb=0.005)"
   ]
  },
  {
   "cell_type": "code",
   "execution_count": 19,
   "metadata": {
    "scrolled": false
   },
   "outputs": [],
   "source": [
    "def main():\n",
    "    random.seed(69)\n",
    "    pop = toolbox.population(n=500)\n",
    "    hof = tools.HallOfFame(1)\n",
    "    stats = tools.Statistics(lambda ind: ind.fitness.values)\n",
    "    stats.register(\"avg\", np.mean)\n",
    "    stats.register(\"std\", np.std)\n",
    "#     stats.register(\"min\", np.min)\n",
    "    stats.register(\"max\", np.max)\n",
    "    \n",
    "    pop, log = algorithms.eaSimple(pop, toolbox, 0.1, 0.8, 200, stats=stats, verbose=True) #halloffame=hof, \n",
    "    print('done')\n",
    "    return pop, log"
   ]
  },
  {
   "cell_type": "code",
   "execution_count": 20,
   "metadata": {
    "scrolled": true
   },
   "outputs": [
    {
     "name": "stdout",
     "output_type": "stream",
     "text": [
      "gen\tnevals\tavg  \tstd    \tmax\n",
      "0  \t500   \t3.872\t9.41783\t58 \n",
      "1  \t415   \t11.376\t13.9964\t58 \n",
      "2  \t417   \t22.668\t16.4036\t58 \n",
      "3  \t405   \t34.824\t14.2435\t58 \n",
      "4  \t411   \t38.688\t14.6581\t58 \n",
      "5  \t417   \t42.046\t14.6764\t58 \n",
      "6  \t390   \t45.972\t15.8015\t58 \n",
      "7  \t405   \t48.898\t15.6712\t58 \n",
      "8  \t399   \t50.08 \t15.8549\t58 \n",
      "9  \t412   \t48.778\t16.5563\t58 \n",
      "10 \t418   \t50.19 \t15.3988\t59 \n",
      "11 \t406   \t49.506\t15.7172\t59 \n",
      "12 \t403   \t49.542\t16.368 \t59 \n",
      "13 \t429   \t49.076\t16.5459\t59 \n",
      "14 \t403   \t48.68 \t16.7623\t59 \n",
      "15 \t411   \t47.02 \t18.6311\t59 \n",
      "16 \t414   \t47.334\t17.5361\t59 \n",
      "17 \t424   \t47.7  \t17.8877\t59 \n",
      "18 \t406   \t47.268\t18.0984\t59 \n",
      "19 \t391   \t46.57 \t18.5708\t59 \n",
      "20 \t429   \t46.372\t18.5703\t59 \n",
      "21 \t413   \t47.366\t17.5791\t59 \n",
      "22 \t405   \t46.754\t18.1956\t59 \n",
      "23 \t417   \t47.108\t18.6293\t59 \n",
      "24 \t400   \t48.314\t17.4659\t59 \n",
      "25 \t424   \t46.166\t19.1109\t59 \n",
      "26 \t413   \t47.376\t17.7822\t59 \n",
      "27 \t400   \t47.506\t18.2121\t59 \n",
      "28 \t401   \t46.246\t18.7246\t59 \n",
      "29 \t427   \t46.858\t18.4309\t59 \n",
      "30 \t407   \t46.818\t18.3072\t59 \n",
      "31 \t402   \t47.182\t17.5857\t59 \n",
      "32 \t409   \t47.29 \t18.0078\t59 \n",
      "33 \t424   \t46.896\t18.4703\t59 \n",
      "34 \t408   \t47.622\t17.8858\t59 \n",
      "35 \t397   \t46.112\t19.0499\t59 \n",
      "36 \t422   \t47.294\t18.2671\t59 \n",
      "37 \t399   \t47.11 \t18.0413\t59 \n",
      "38 \t428   \t45.812\t19.0405\t59 \n",
      "39 \t400   \t46.292\t18.6278\t59 \n",
      "40 \t390   \t47.466\t18.2631\t59 \n",
      "41 \t424   \t46.522\t18.3625\t59 \n",
      "42 \t408   \t49.834\t16.4084\t59 \n",
      "43 \t395   \t47.962\t18.1054\t59 \n",
      "44 \t422   \t45.24 \t19.0144\t59 \n",
      "45 \t429   \t46.116\t18.4986\t59 \n",
      "46 \t416   \t45.95 \t18.488 \t59 \n",
      "47 \t415   \t46.474\t18.9204\t59 \n",
      "48 \t424   \t47.154\t18.4964\t59 \n",
      "49 \t407   \t46.826\t18.735 \t59 \n",
      "50 \t417   \t46.36 \t19.0334\t59 \n",
      "51 \t397   \t48.078\t18.0564\t59 \n",
      "52 \t416   \t46.914\t18.3939\t59 \n",
      "53 \t415   \t46.302\t18.5953\t70 \n",
      "54 \t422   \t44.098\t19.6195\t70 \n",
      "55 \t420   \t46.024\t19.3333\t70 \n",
      "56 \t404   \t47.328\t17.9579\t70 \n",
      "57 \t402   \t46.906\t19.1491\t70 \n",
      "58 \t398   \t45.944\t20.3009\t70 \n",
      "59 \t411   \t46.682\t20.8939\t70 \n",
      "60 \t401   \t48.108\t21.5697\t70 \n",
      "61 \t405   \t51.344\t21.8579\t78 \n",
      "62 \t414   \t52.576\t23.2186\t78 \n",
      "63 \t416   \t51.248\t24.7236\t78 \n",
      "64 \t413   \t52.534\t24.4805\t78 \n",
      "65 \t404   \t54.966\t24.2646\t78 \n",
      "66 \t425   \t56.378\t23.8669\t79 \n",
      "67 \t404   \t60.72 \t22.8821\t79 \n",
      "68 \t420   \t63.672\t21.6525\t79 \n",
      "69 \t406   \t65.956\t20.162 \t79 \n",
      "70 \t403   \t66.792\t20.9334\t79 \n",
      "71 \t398   \t70.13 \t16.5363\t79 \n",
      "72 \t415   \t68.246\t19.1928\t79 \n",
      "73 \t407   \t70.434\t16.1416\t79 \n",
      "74 \t412   \t69.52 \t18.3968\t79 \n",
      "75 \t407   \t69.262\t18.0007\t79 \n",
      "76 \t411   \t68.356\t19.0502\t79 \n",
      "77 \t419   \t67.828\t19.9806\t79 \n",
      "78 \t399   \t69.216\t18.2212\t79 \n",
      "79 \t401   \t69.01 \t19.0682\t79 \n",
      "80 \t418   \t68.964\t18.6533\t80 \n",
      "81 \t410   \t70.236\t17.7967\t80 \n",
      "82 \t415   \t69.912\t18.0364\t80 \n",
      "83 \t424   \t69.552\t17.5859\t80 \n",
      "84 \t407   \t69.496\t18.897 \t80 \n",
      "85 \t416   \t67.652\t20.9483\t80 \n",
      "86 \t404   \t70.402\t18.0673\t80 \n",
      "87 \t404   \t69.23 \t19.1923\t80 \n",
      "88 \t407   \t69.34 \t19.6594\t80 \n",
      "89 \t409   \t68.824\t20.0482\t80 \n",
      "90 \t423   \t68.52 \t20.0862\t80 \n",
      "91 \t405   \t69.658\t18.9311\t80 \n",
      "92 \t412   \t69.49 \t19.1612\t80 \n",
      "93 \t409   \t69.82 \t18.8809\t80 \n",
      "94 \t409   \t69.724\t19.2155\t80 \n",
      "95 \t420   \t69.17 \t20.2078\t80 \n",
      "96 \t423   \t69.966\t18.2535\t80 \n",
      "97 \t409   \t67.866\t21.3263\t80 \n",
      "98 \t410   \t69.49 \t19.5227\t80 \n",
      "99 \t405   \t67.836\t20.5274\t80 \n",
      "100\t409   \t70.006\t19.5122\t80 \n",
      "101\t406   \t67.878\t21.0007\t80 \n",
      "102\t412   \t67.56 \t20.5809\t80 \n",
      "103\t430   \t68.912\t19.5528\t80 \n",
      "104\t424   \t67.574\t20.4846\t80 \n",
      "105\t400   \t68.59 \t21.0079\t80 \n",
      "106\t420   \t68.072\t19.8671\t80 \n",
      "107\t399   \t69.228\t20.2107\t80 \n",
      "108\t397   \t70.512\t18.5423\t80 \n",
      "109\t398   \t70.294\t19.507 \t80 \n",
      "110\t411   \t69.198\t19.6764\t80 \n",
      "111\t406   \t69.854\t19.2729\t80 \n",
      "112\t399   \t69.032\t21.0029\t80 \n",
      "113\t418   \t69.636\t19.6234\t80 \n",
      "114\t405   \t69.376\t19.6429\t80 \n",
      "115\t387   \t70.306\t18.5456\t80 \n",
      "116\t390   \t68.794\t19.9522\t80 \n",
      "117\t409   \t69.174\t19.8343\t80 \n",
      "118\t397   \t67.88 \t21.5401\t80 \n",
      "119\t418   \t67.744\t21.5644\t80 \n",
      "120\t420   \t69.19 \t19.9049\t80 \n",
      "121\t397   \t69.204\t19.937 \t80 \n",
      "122\t410   \t70.7  \t17.2956\t80 \n",
      "123\t409   \t70.156\t18.6529\t80 \n",
      "124\t425   \t68.852\t20.2871\t80 \n",
      "125\t405   \t69.268\t19.9441\t80 \n",
      "126\t397   \t69.074\t19.5806\t80 \n",
      "127\t413   \t69.632\t19.7709\t80 \n",
      "128\t412   \t68.27 \t20.7536\t80 \n",
      "129\t419   \t69.378\t20.0574\t80 \n",
      "130\t405   \t69.176\t19.9706\t80 \n",
      "131\t420   \t69.108\t19.5089\t80 \n",
      "132\t411   \t68.762\t20.2642\t80 \n",
      "133\t408   \t70.048\t19.3855\t80 \n",
      "134\t413   \t70.884\t18.036 \t80 \n",
      "135\t405   \t69.148\t20.8281\t80 \n",
      "136\t409   \t67.91 \t20.7256\t80 \n",
      "137\t406   \t70.068\t18.4394\t80 \n",
      "138\t411   \t67.162\t22.1037\t80 \n",
      "139\t421   \t68.618\t20.6842\t80 \n",
      "140\t415   \t67.194\t22.2774\t80 \n",
      "141\t400   \t69.612\t19.6138\t80 \n",
      "142\t399   \t68.88 \t20.8935\t80 \n",
      "143\t396   \t68.89 \t20.536 \t80 \n",
      "144\t408   \t68.72 \t19.9497\t80 \n",
      "145\t404   \t66.534\t22.5485\t80 \n",
      "146\t390   \t68.966\t21.2878\t80 \n",
      "147\t429   \t69.004\t20.5744\t80 \n",
      "148\t402   \t69.022\t19.428 \t80 \n",
      "149\t421   \t68.058\t20.194 \t80 \n",
      "150\t412   \t67.91 \t20.436 \t80 \n",
      "151\t405   \t69.618\t19.6859\t80 \n",
      "152\t411   \t68.072\t21.2536\t80 \n",
      "153\t406   \t69.858\t19.6878\t80 \n",
      "154\t412   \t67.824\t21.2688\t80 \n",
      "155\t416   \t67.964\t20.5046\t80 \n",
      "156\t409   \t67.276\t22.1882\t80 \n",
      "157\t397   \t68.306\t20.7937\t80 \n",
      "158\t403   \t68.888\t20.3798\t80 \n",
      "159\t393   \t69.698\t19.0914\t80 \n",
      "160\t415   \t68.336\t20.7229\t80 \n",
      "161\t401   \t68.384\t20.6223\t80 \n",
      "162\t395   \t68.012\t21.2009\t80 \n",
      "163\t404   \t68.116\t21.3115\t80 \n",
      "164\t402   \t69.794\t18.9052\t80 \n",
      "165\t403   \t67.47 \t21.4346\t80 \n",
      "166\t393   \t66.792\t21.3717\t80 \n",
      "167\t421   \t68.984\t19.7257\t80 \n",
      "168\t419   \t67.882\t20.9925\t80 \n",
      "169\t407   \t70.07 \t18.4105\t80 \n",
      "170\t385   \t69.072\t20.2396\t80 \n",
      "171\t408   \t68.184\t20.545 \t80 \n",
      "172\t405   \t69.18 \t19.94  \t80 \n",
      "173\t423   \t67.762\t21.0929\t80 \n",
      "174\t415   \t69.896\t19.1378\t80 \n",
      "175\t413   \t68.896\t19.8855\t80 \n",
      "176\t402   \t68.73 \t20.1347\t80 \n",
      "177\t404   \t69.118\t20.4032\t80 \n",
      "178\t406   \t69.182\t19.6293\t80 \n",
      "179\t406   \t69.246\t19.3752\t80 \n",
      "180\t391   \t70.714\t17.8902\t80 \n",
      "181\t413   \t68.606\t21.3041\t80 \n",
      "182\t415   \t70.232\t19.899 \t80 \n",
      "183\t427   \t68.002\t20.8272\t80 \n",
      "184\t395   \t67.628\t21.6769\t80 \n",
      "185\t421   \t69.242\t19.6386\t80 \n",
      "186\t426   \t69.144\t19.7514\t80 \n",
      "187\t426   \t66.538\t22.6757\t80 \n",
      "188\t414   \t67.474\t21.9192\t80 \n",
      "189\t417   \t69.666\t19.6049\t80 \n",
      "190\t411   \t67.582\t21.2653\t80 \n",
      "191\t407   \t67.65 \t20.4761\t80 \n",
      "192\t404   \t67.868\t21.2282\t80 \n",
      "193\t425   \t68.728\t20.2293\t80 \n",
      "194\t395   \t69.408\t19.8192\t80 \n",
      "195\t407   \t69.486\t19.3525\t80 \n",
      "196\t410   \t68.914\t19.7278\t80 \n",
      "197\t396   \t69.984\t19.4536\t80 \n",
      "198\t398   \t70.242\t18.8651\t80 \n",
      "199\t403   \t70.244\t18.5315\t80 \n",
      "200\t421   \t68.52 \t19.9954\t80 \n",
      "done\n"
     ]
    }
   ],
   "source": [
    "\n",
    "\n",
    "pop, log = main()"
   ]
  },
  {
   "cell_type": "code",
   "execution_count": null,
   "metadata": {},
   "outputs": [],
   "source": []
  },
  {
   "cell_type": "code",
   "execution_count": null,
   "metadata": {},
   "outputs": [],
   "source": []
  },
  {
   "cell_type": "code",
   "execution_count": null,
   "metadata": {},
   "outputs": [],
   "source": []
  },
  {
   "cell_type": "code",
   "execution_count": null,
   "metadata": {},
   "outputs": [],
   "source": []
  },
  {
   "cell_type": "code",
   "execution_count": null,
   "metadata": {},
   "outputs": [],
   "source": []
  },
  {
   "cell_type": "code",
   "execution_count": null,
   "metadata": {},
   "outputs": [],
   "source": []
  },
  {
   "cell_type": "code",
   "execution_count": null,
   "metadata": {},
   "outputs": [],
   "source": []
  },
  {
   "cell_type": "code",
   "execution_count": null,
   "metadata": {},
   "outputs": [],
   "source": []
  },
  {
   "cell_type": "code",
   "execution_count": null,
   "metadata": {},
   "outputs": [],
   "source": []
  },
  {
   "cell_type": "code",
   "execution_count": null,
   "metadata": {},
   "outputs": [],
   "source": []
  },
  {
   "cell_type": "code",
   "execution_count": null,
   "metadata": {},
   "outputs": [],
   "source": []
  },
  {
   "cell_type": "code",
   "execution_count": null,
   "metadata": {},
   "outputs": [],
   "source": []
  },
  {
   "cell_type": "code",
   "execution_count": null,
   "metadata": {},
   "outputs": [],
   "source": []
  },
  {
   "cell_type": "code",
   "execution_count": null,
   "metadata": {},
   "outputs": [],
   "source": []
  },
  {
   "cell_type": "code",
   "execution_count": 21,
   "metadata": {},
   "outputs": [],
   "source": [
    "# import pickle\n",
    "# with open(\"log_83_ant.pkl\", \"wb\") as output_file:\n",
    "#     pickle.dump(log, output_file)"
   ]
  },
  {
   "cell_type": "code",
   "execution_count": 22,
   "metadata": {},
   "outputs": [],
   "source": [
    "# with open(\"pop_83_ant.pkl\", \"wb\") as output_file:\n",
    "#     pickle.dump(pop, output_file)"
   ]
  },
  {
   "cell_type": "code",
   "execution_count": 481,
   "metadata": {},
   "outputs": [],
   "source": [
    "best = tools.selBest(pop, 1)[0]"
   ]
  },
  {
   "cell_type": "code",
   "execution_count": null,
   "metadata": {},
   "outputs": [],
   "source": []
  },
  {
   "cell_type": "code",
   "execution_count": null,
   "metadata": {},
   "outputs": [],
   "source": []
  },
  {
   "cell_type": "code",
   "execution_count": null,
   "metadata": {},
   "outputs": [],
   "source": []
  },
  {
   "cell_type": "code",
   "execution_count": null,
   "metadata": {},
   "outputs": [],
   "source": []
  },
  {
   "cell_type": "code",
   "execution_count": null,
   "metadata": {},
   "outputs": [],
   "source": []
  },
  {
   "cell_type": "code",
   "execution_count": null,
   "metadata": {},
   "outputs": [],
   "source": []
  },
  {
   "cell_type": "code",
   "execution_count": null,
   "metadata": {},
   "outputs": [],
   "source": []
  },
  {
   "cell_type": "code",
   "execution_count": null,
   "metadata": {},
   "outputs": [],
   "source": []
  },
  {
   "cell_type": "code",
   "execution_count": null,
   "metadata": {},
   "outputs": [],
   "source": []
  },
  {
   "cell_type": "code",
   "execution_count": null,
   "metadata": {},
   "outputs": [],
   "source": []
  },
  {
   "cell_type": "code",
   "execution_count": null,
   "metadata": {},
   "outputs": [],
   "source": []
  },
  {
   "cell_type": "code",
   "execution_count": null,
   "metadata": {},
   "outputs": [],
   "source": []
  },
  {
   "cell_type": "code",
   "execution_count": null,
   "metadata": {},
   "outputs": [],
   "source": []
  },
  {
   "cell_type": "code",
   "execution_count": null,
   "metadata": {},
   "outputs": [],
   "source": []
  },
  {
   "cell_type": "code",
   "execution_count": null,
   "metadata": {},
   "outputs": [],
   "source": []
  }
 ],
 "metadata": {
  "kernelspec": {
   "display_name": "Python 3",
   "language": "python",
   "name": "python3"
  },
  "language_info": {
   "codemirror_mode": {
    "name": "ipython",
    "version": 3
   },
   "file_extension": ".py",
   "mimetype": "text/x-python",
   "name": "python",
   "nbconvert_exporter": "python",
   "pygments_lexer": "ipython3",
   "version": "3.6.6"
  }
 },
 "nbformat": 4,
 "nbformat_minor": 2
}
