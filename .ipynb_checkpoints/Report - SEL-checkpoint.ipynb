{
 "cells": [
  {
   "cell_type": "code",
   "execution_count": 1,
   "metadata": {},
   "outputs": [
    {
     "name": "stdout",
     "output_type": "stream",
     "text": [
      "Once deleted, variables cannot be recovered. Proceed (y/[n])? y\n"
     ]
    }
   ],
   "source": [
    "# clean the variable namespace\n",
    "%reset"
   ]
  },
  {
   "cell_type": "code",
   "execution_count": 2,
   "metadata": {},
   "outputs": [
    {
     "data": {
      "text/html": [
       "<style>.container { width:90% !important; }</style>"
      ],
      "text/plain": [
       "<IPython.core.display.HTML object>"
      ]
     },
     "metadata": {},
     "output_type": "display_data"
    }
   ],
   "source": [
    "# increase the width of the notebook's cells (aesthetic of working environment).\n",
    "from IPython.core.display import display, HTML\n",
    "display(HTML(\"<style>.container { width:90% !important; }</style>\"))"
   ]
  },
  {
   "cell_type": "code",
   "execution_count": 3,
   "metadata": {},
   "outputs": [],
   "source": [
    "# import necessary modules and libraries\n",
    "import matplotlib.pyplot as plt\n",
    "import random\n",
    "import numpy as np, pandas as pd\n",
    "from deap import base, creator, tools, algorithms\n",
    "\n",
    "# import our Ant class\n",
    "from ant import Ant"
   ]
  },
  {
   "cell_type": "code",
   "execution_count": 4,
   "metadata": {},
   "outputs": [],
   "source": [
    "def show_trail(mtx):\n",
    "    \"utility to print a pretty trail\"\n",
    "    for row in mtx:\n",
    "        print(\" \".join(map(str, row)))"
   ]
  },
  {
   "cell_type": "markdown",
   "metadata": {},
   "source": [
    "# 5."
   ]
  },
  {
   "cell_type": "markdown",
   "metadata": {},
   "source": [
    "**Write an evolution program that can evolve individuals (for the John Muir trail) using your representation. Include multi-point crossover and mutation. Decide on a fixed number of states with which to run the program. (You do not have to limit yourself to 16 states this time, but think twice before making it too large.) Write an outline in English of how your code works and what representations you use. Tell us about the algorithm for selection of individuals for the next generation. Run your system and plot how fitness increases by generation.**"
   ]
  },
  {
   "cell_type": "markdown",
   "metadata": {},
   "source": [
    "DESCRIBE HOW THE EVOLUTION OCCURS\n",
    "then say that a cool library was leveraged to aid in prototyping"
   ]
  },
  {
   "cell_type": "markdown",
   "metadata": {},
   "source": [
    "To quickly develop and prototype evolution arquitectures the DEAP framework was leveraged. First, there was no need to go beyond 16 states, the genomes are all 196 bits — 16 states of 12-bit-sequences, plus the 4 random bits for the initial state — however their representation is a randomly generated list of integers. The population size was set to 500 genomes, as it was found that the increase in diversity provided by a bigger population was not worth the computational expense.\n",
    "\n",
    "For selection and reproduction a simple genetic algorithm with complete replacement was utilized. Algorithms of the type $ ( \\mu, \\lambda ) $ where $ \\mu = \\lambda $, implicate that solely the offsprings form the new generation, which resembles more closely what happens in nature. Other algorithms, of the type  $ ( \\mu + \\lambda ) $, allow parents, individuals from the previous generation, to be chosen and 'reborn' in the new generation. \n",
    "\n",
    "The pseudocode is as follows:\n",
    "\n",
    "`for i in range(n_generations):\n",
    "    population = select(population, len(population))\n",
    "    offspring  = mate(population, crossover, mutation)\n",
    "    evaluate   = fitness(offspring)\n",
    "    population = offspring`\n",
    "\n",
    "**selection:** is the process by which individuals from the parent generation are chosen to reproduce and create the new generation. This is a mechanism of exploitation or continuity, its purposes is that the best traits to survive. The selection method chosen was *tournament* by which the best individual from a random sample of 10 individuals (with repetition), is selected. This is done iteratively until the population size is reached ($ \\mu = \\lambda $).\n",
    "\n",
    "**mating:** Is composed of crossover and mutation, and is where the offspring are generated. The crossover method is two-point crossover, probabilisticly set to 20%. Two-point crossover is a subset of multi-point in which each offspring gets the genome of one parent with a random length segment of the other parent within it. The mutation is bitflip mutation with a 70% probability of occuring to any genome, and within it, each bit has a 1% probability of being flipped. \n",
    "\n",
    "Crossover and mutation are mechanisms of variation, they increase the diversity within the population. These values of 20% crossover and 70% mutation are extremely elevated and thus unnatural. However, they aggressively promote variation which develops traits & patterns that would take hundreds, if not thousands, of generations to occur. These extreme scenarios, if unnatural, are part of the wonder of computer-simulated phenomena, moreover, it allows us to reach a perfect ant (89 score) within 500 generations!!!\n",
    "\n",
    "**evaluation:** is where the fitness of each individual in the offspring population is evaluated and statistics are corded. \n",
    "\n",
    "**death:** the last step is to eliminate the parent's population, replacing it with its offsprings, the way nature dictates.\n",
    "\n",
    "This genetic algorithm configuration is not elitist, meaning no parents, regardless of fitness, get a free ticket to the next generation. However, crossover and mutation sum 90% probability of the mating mechanism, there is a 10% chance that a parent will output an identical — clone — child. However, this is completely independent of fitness, a 'bad' genome is equally likely to pass untouched to the next generation, as the fittest genome. Provided that this 'bad' genome, was matched in selection with other 9 worse genomes."
   ]
  },
  {
   "cell_type": "code",
   "execution_count": 5,
   "metadata": {},
   "outputs": [],
   "source": [
    "# Create a wrapper for the fitness function indicating its objective is to be maximized\n",
    "creator.create(\"FitnessMax\", base.Fitness, weights=(1.0,))\n",
    "\n",
    "# Create an individual in our population. The genomes are the individuals, and they inherit from the list object.\n",
    "# FSAs and Ants are just created for evaluation, the real meaning and performance is dictated by the genome.\n",
    "# This also increases computation efficiency as less code needs to be executed.\n",
    "creator.create(\"Individual\", list, fitness=creator.FitnessMax)\n",
    "\n",
    "# toolbox holds the functions used to create a population and to evolve it.\n",
    "toolbox = base.Toolbox()"
   ]
  },
  {
   "cell_type": "code",
   "execution_count": 6,
   "metadata": {},
   "outputs": [],
   "source": [
    "# Initializers\n",
    "\n",
    "# gives a random bit\n",
    "toolbox.register(\"zero_or_one\", random.randint, 0, 1)\n",
    "\n",
    "# creates a random genome with n states\n",
    "toolbox.register(\"genome\", tools.initRepeat, creator.Individual, toolbox.zero_or_one, 4 + 16*12)\n",
    "\n",
    "# creates a population of n genomes (n not declared here)\n",
    "toolbox.register(\"population\", tools.initRepeat, list, toolbox.genome)"
   ]
  },
  {
   "cell_type": "code",
   "execution_count": 7,
   "metadata": {},
   "outputs": [],
   "source": [
    "def evaluate_genome(genome):\n",
    "    \"\"\"the fitness function. It evaluates the performance of a genome walking the trail with 200 moves.\"\"\"\n",
    "    ant = Ant(genome, 200)\n",
    "    food_eaten = ant.run()\n",
    "    return (food_eaten,)"
   ]
  },
  {
   "cell_type": "code",
   "execution_count": 8,
   "metadata": {},
   "outputs": [],
   "source": [
    "# Operators\n",
    "\n",
    "# Set the fitness function to be our evaluate_genome function above\n",
    "toolbox.register(\"evaluate\", evaluate_genome)\n",
    "\n",
    "# As a selection method using the tournmanet — keep the best from a randomly chosen subgroup, repeat \n",
    "toolbox.register(\"select\", tools.selTournament, tournsize=10)\n",
    "\n",
    "# Crossover method, two-point crossover\n",
    "toolbox.register(\"mate\", tools.cxTwoPoint)\n",
    "\n",
    "# Mutation method — randomly flip a bit. indpb is the probability of each bit being flipped.\n",
    "toolbox.register(\"mutate\", tools.mutFlipBit, indpb=0.01)"
   ]
  },
  {
   "cell_type": "code",
   "execution_count": 9,
   "metadata": {},
   "outputs": [],
   "source": [
    "# utility object to compute and store statistics per generation\n",
    "stats = tools.Statistics(lambda ind: ind.fitness.values)\n",
    "stats.register(\"avg\", np.mean)\n",
    "stats.register(\"std\", np.std)\n",
    "stats.register(\"min\", np.min)\n",
    "stats.register(\"max\", np.max)\n"
   ]
  },
  {
   "cell_type": "code",
   "execution_count": 10,
   "metadata": {},
   "outputs": [],
   "source": [
    "def evolve(pop_size, cxpb, mutpb, ngen):\n",
    "    \"\"\"creates a population of individuals of size n, evolves them, and logs summary statistics\"\"\"\n",
    "    random.seed(69)\n",
    "    pop = toolbox.population(n=pop_size)\n",
    "    hof = tools.HallOfFame(1)\n",
    "    pop, log = algorithms.eaSimple(pop, toolbox, cxpb, mutpb, ngen, stats=stats, halloffame=hof, verbose=True) \n",
    "    return pop, log"
   ]
  },
  {
   "cell_type": "code",
   "execution_count": null,
   "metadata": {},
   "outputs": [
    {
     "name": "stdout",
     "output_type": "stream",
     "text": [
      "gen\tnevals\tavg  \tstd    \tmin\tmax\n",
      "0  \t500   \t3.872\t9.41783\t0  \t58 \n",
      "1  \t97    \t21.192\t16.1796\t0  \t58 \n",
      "2  \t96    \t41.184\t13.5668\t0  \t58 \n",
      "3  \t89    \t54.004\t10.2212\t0  \t58 \n",
      "4  \t109   \t56.052\t8.89524\t0  \t58 \n",
      "5  \t88    \t56.13 \t8.59797\t1  \t58 \n",
      "6  \t101   \t56.376\t7.79068\t0  \t58 \n",
      "7  \t76    \t56.726\t7.06562\t2  \t58 \n",
      "8  \t107   \t56.246\t8.14675\t1  \t58 \n",
      "9  \t100   \t55.962\t8.63786\t1  \t58 \n",
      "10 \t92    \t56.68 \t6.50612\t1  \t58 \n",
      "11 \t103   \t55.926\t8.91384\t1  \t58 \n",
      "12 \t112   \t55.366\t10.2493\t1  \t58 \n",
      "13 \t89    \t57.012\t5.30244\t1  \t58 \n",
      "14 \t98    \t56.204\t8.01788\t1  \t58 \n",
      "15 \t88    \t56.494\t7.33771\t1  \t58 \n",
      "16 \t86    \t55.98 \t8.75737\t1  \t58 \n",
      "17 \t95    \t56.518\t7.49598\t1  \t58 \n",
      "18 \t98    \t56.914\t6.0619 \t0  \t58 \n",
      "19 \t78    \t56.586\t7.33066\t1  \t58 \n"
     ]
    }
   ],
   "source": [
    "pop_low_mating, log_low_mating = evolve(500, 0.1, 0.1, 200)"
   ]
  },
  {
   "cell_type": "code",
   "execution_count": null,
   "metadata": {},
   "outputs": [],
   "source": []
  },
  {
   "cell_type": "code",
   "execution_count": null,
   "metadata": {},
   "outputs": [],
   "source": []
  },
  {
   "cell_type": "code",
   "execution_count": null,
   "metadata": {},
   "outputs": [],
   "source": []
  },
  {
   "cell_type": "code",
   "execution_count": null,
   "metadata": {},
   "outputs": [],
   "source": []
  },
  {
   "cell_type": "code",
   "execution_count": null,
   "metadata": {},
   "outputs": [],
   "source": [
    "pd.DataFrame(log).loc[:, [\"avg\", \"max\", \"std\"]].plot(figsize=(16, 8))\n",
    "plt.ylim((20, 90))\n",
    "plt.xlim((0, 600))\n",
    "plt.title(\"Average, Max, and Std. Dev. of Fitness\", fontsize=16)\n",
    "plt.xlabel(\"Generations\", fontsize=14)\n",
    "plt.ylabel(\"Fitness\", fontsize=14)\n",
    "plt.show()"
   ]
  },
  {
   "cell_type": "code",
   "execution_count": null,
   "metadata": {},
   "outputs": [],
   "source": [
    "# let's see how the best genome walked the trail\n",
    "\n",
    "# select the best genome & have it run the trail\n",
    "best_genome = tools.selBest(pop, 1)\n",
    "best_fenotype = Ant(best_genome, 200)\n",
    "best_fenotype.run()\n",
    "\n",
    "# shows its last state in each cell\n",
    "show_trail(best_fenotype.matrix_state)\n",
    "print(\" \\n \\\n",
    "      ---------------------------------- \\n \\\n",
    "      \")\n",
    "\n",
    "# shows its last direction in each cell\n",
    "show_trail(best_fenotype.matrix_dir)"
   ]
  },
  {
   "cell_type": "markdown",
   "metadata": {},
   "source": [
    "# 6."
   ]
  },
  {
   "cell_type": "markdown",
   "metadata": {},
   "source": [
    "**Generate some tables on how the overall fitness varies for different population sizes, different parameters for what proportion of the fittest individuals are retained, what proportion are used for reproduction, and what levels of mutation are used.**"
   ]
  },
  {
   "cell_type": "code",
   "execution_count": null,
   "metadata": {},
   "outputs": [],
   "source": []
  }
 ],
 "metadata": {
  "kernelspec": {
   "display_name": "Python 3",
   "language": "python",
   "name": "python3"
  },
  "language_info": {
   "codemirror_mode": {
    "name": "ipython",
    "version": 3
   },
   "file_extension": ".py",
   "mimetype": "text/x-python",
   "name": "python",
   "nbconvert_exporter": "python",
   "pygments_lexer": "ipython3",
   "version": "3.6.6"
  }
 },
 "nbformat": 4,
 "nbformat_minor": 2
}
