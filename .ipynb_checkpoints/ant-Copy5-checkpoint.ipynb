{
 "cells": [
  {
   "cell_type": "code",
   "execution_count": 1,
   "metadata": {
    "scrolled": true
   },
   "outputs": [
    {
     "name": "stdout",
     "output_type": "stream",
     "text": [
      "Once deleted, variables cannot be recovered. Proceed (y/[n])? \n",
      "Nothing done.\n"
     ]
    }
   ],
   "source": [
    "%reset"
   ]
  },
  {
   "cell_type": "code",
   "execution_count": 2,
   "metadata": {},
   "outputs": [],
   "source": [
    "import random\n",
    "import json\n",
    "import numpy as np, pandas as pd\n",
    "from deap import base, creator, tools, algorithms, gp\n",
    "from pprint import pprint\n",
    "from dask.diagnostics import ProgressBar\n",
    "import copy\n",
    "from functools import partial"
   ]
  },
  {
   "cell_type": "code",
   "execution_count": 3,
   "metadata": {},
   "outputs": [
    {
     "data": {
      "text/html": [
       "<style>.container { width:90% !important; }</style>"
      ],
      "text/plain": [
       "<IPython.core.display.HTML object>"
      ]
     },
     "metadata": {},
     "output_type": "display_data"
    }
   ],
   "source": [
    "from IPython.core.display import display, HTML\n",
    "display(HTML(\"<style>.container { width:90% !important; }</style>\"))"
   ]
  },
  {
   "cell_type": "code",
   "execution_count": 4,
   "metadata": {},
   "outputs": [],
   "source": [
    "# utility functions\n",
    "\n",
    "def progn(*args):\n",
    "    for arg in args:\n",
    "        arg()\n",
    "\n",
    "def prog2(out1, out2): \n",
    "    return partial(progn,out1,out2)\n",
    "\n",
    "def prog3(out1, out2, out3):     \n",
    "    return partial(progn,out1,out2,out3)\n",
    "\n",
    "def if_then_else(condition, out1, out2):\n",
    "    print(\"if then else\")\n",
    "    out1() if condition() else out2()\n",
    "    \n",
    "def fourbits2int(b3, b2, b1, b0):\n",
    "    return b0*1 + b1*2 + b2*4 + b3*8\n",
    "\n",
    "def twobits2int(b1, b0):\n",
    "    return b0*1 + b1*2\n",
    "\n",
    "def show_map(mtx):\n",
    "    for row in mtx:\n",
    "        print(\" \".join(map(str, row)))"
   ]
  },
  {
   "cell_type": "code",
   "execution_count": 5,
   "metadata": {},
   "outputs": [],
   "source": [
    "class Genome(list):\n",
    "    num_states = 16\n",
    "#     genome = \"01000101000011001001000011001101000011010001000011000011000011\" # 62 in length\n",
    "#     genome_list = [int(x) for x in genome_list]\n",
    "    \n",
    "    def __init__(self, genome):\n",
    "        self.transitions_food = []\n",
    "        self.actions_food = []\n",
    "        self.transitions_no_food = []\n",
    "        self.actions_no_food = []\n",
    "        self.bits = genome\n",
    "        self.start_state = fourbits2int(*self.bits[0:4])\n",
    "        \n",
    "        for s in range(0, self.num_states):\n",
    "            self.transitions_no_food.insert(s, fourbits2int( *self.bits[(4 + s*12):(8 + s*12)] ) )\n",
    "            self.actions_no_food.insert(s, twobits2int( *self.bits[(8 + s*12):(10 + s*12)] ) )\n",
    "            \n",
    "            self.transitions_food.insert(s, fourbits2int( *self.bits[(10 + s*12):(14 + s*12)] ) )\n",
    "            self.actions_food.insert(s, twobits2int( *self.bits[(14 + s*12):(16 + s*12)] ) )\n"
   ]
  },
  {
   "cell_type": "code",
   "execution_count": 6,
   "metadata": {},
   "outputs": [],
   "source": [
    "# Ant Class\n",
    "\n",
    "class AntSimulator(Genome):\n",
    "    direction = [\"north\", \"east\",\"south\", \"west\"]\n",
    "    dir_row = [-1, 0, 1, 0]\n",
    "    dir_col = [0, 1, 0, -1]\n",
    "    \n",
    "    \n",
    "    def __init__(self, Genome):\n",
    "        self.max_moves = 200\n",
    "        self.moves = 0\n",
    "        self.eaten = 0\n",
    "        self.routine = None\n",
    "        self.genotype = Genome\n",
    "        self.current_state = self.genotype.start_state\n",
    "        self.memorize_map()\n",
    "        \n",
    "        \n",
    "    def _reset(self):\n",
    "        self.row = self.row_start \n",
    "        self.col = self.col_start \n",
    "        self.dir = self.genotype.start_state % 4\n",
    "        self.moves = 0\n",
    "        self.eaten = 0\n",
    "        self.current_state = self.genotype.start_state\n",
    "        self.matrix_exc = copy.deepcopy(self.matrix)\n",
    "        self.matrix_exc2 = copy.deepcopy(self.matrix_exc)\n",
    "        \n",
    "        \n",
    "    @property\n",
    "    def position(self):\n",
    "        return (self.row, self.col, self.direction[self.dir])\n",
    "    \n",
    "    def memorize_map(self):\n",
    "        with  open(\"./map.json\") as trail_file:\n",
    "            self.matrix = json.load(trail_file)\n",
    "            self.total_food = sum(map(sum, self.matrix))\n",
    "            self.matrix = [[\".\" if col == 0 else \"X\" for col in row] for row in self.matrix]\n",
    "            self.row_start = self.row = 0\n",
    "            self.col_start = self.col = 0\n",
    "#             self.dir = 1\n",
    "            self.matrix_row = len(self.matrix)\n",
    "            self.matrix_col = len(self.matrix[0])\n",
    "            self.matrix_exc = copy.deepcopy(self.matrix)\n",
    "            self.matrix_exc2 = copy.deepcopy(self.matrix_exc)\n",
    "            self.row_start = self.row = 0\n",
    "            self.col_start = self.col = 0\n",
    "            \n",
    "    def turn_left(self): \n",
    "        self.dir = (self.dir - 1) % 4\n",
    "\n",
    "    def turn_right(self): \n",
    "        self.dir = (self.dir + 1) % 4\n",
    "        \n",
    "    def move_forward(self):\n",
    "        self.row = (self.row + self.dir_row[self.dir]) % self.matrix_row\n",
    "        self.col = (self.col + self.dir_col[self.dir]) % self.matrix_col\n",
    "#         print(\"moving forward\")\n",
    "        if self.matrix_exc[self.row][self.col] == \"X\":\n",
    "            self.eaten += 1\n",
    "\n",
    "    def do_nothing(self):\n",
    "        pass        \n",
    "    \n",
    "    def sense_food(self):\n",
    "        ahead_row = (self.row + self.dir_row[self.dir]) % self.matrix_row\n",
    "        ahead_col = (self.col + self.dir_col[self.dir]) % self.matrix_col \n",
    "#         print(\"sensing food\")\n",
    "        return self.matrix_exc[ahead_row][ahead_col] == \"X\"\n",
    "   \n",
    "\n",
    "    def if_food_ahead(self, out1, out2):\n",
    "        return partial(if_then_else, self.sense_food, out1, out2)\n",
    "    \n",
    "#     Food:    ( [3, 3, 3, 3, 3], [0, 0, 0, 0, 0] )\n",
    "#     No Food: ( [1, 1, 1, 1, 3], [1, 2, 3, 4, 0] )\n",
    "\n",
    "    def action_to_take(self, action):\n",
    "        actions = {\n",
    "        0: self.do_nothing,\n",
    "        1: self.turn_right,\n",
    "        2: self.turn_left, \n",
    "        3: self.move_forward,\n",
    "        \n",
    "        }\n",
    "        return actions[action]\n",
    "    \n",
    "    \n",
    "    def run(self):\n",
    "        self._reset()\n",
    "#         print(\"start state: {} \\n \\\n",
    "#                 food: {} - {} \\n \\\n",
    "#                 no food: {} - {} \\n\".format(ant.genotype.start_state, \n",
    "#                                             ant.genotype.actions_food, ant.genotype.transitions_food, \n",
    "#                                             ant.genotype.actions_no_food, ant.genotype.transitions_no_food))\n",
    "        while (self.moves < self.max_moves) and (self.eaten < self.total_food):\n",
    "            self.matrix_exc[self.row][self.col] = str(self.current_state)\n",
    "            self.matrix_exc2[self.row][self.col] = str(self.dir)\n",
    "            if self.sense_food():\n",
    "                self.action_to_take(self.genotype.actions_food[self.current_state % 16 ])()\n",
    "                self.current_state = self.genotype.transitions_food[self.current_state % 16 ]\n",
    "            else:\n",
    "                self.action_to_take(self.genotype.actions_no_food[self.current_state % 16 ])()\n",
    "                self.current_state = self.genotype.transitions_no_food[self.current_state % 16]\n",
    "            self.moves += 1\n",
    "#             print(self.current_state)\n",
    "#             print(\"self.dir = {}\".format(self.dir))\n",
    "        return self.eaten\n",
    "    "
   ]
  },
  {
   "cell_type": "markdown",
   "metadata": {},
   "source": [
    "## ---------\n",
    "### -----------------------------------------------\n",
    "## ---------"
   ]
  },
  {
   "cell_type": "code",
   "execution_count": 7,
   "metadata": {
    "scrolled": true
   },
   "outputs": [],
   "source": [
    "creator.create(\"FitnessMax\", base.Fitness, weights=(1.0,))\n",
    "creator.create(\"Individual\", list, fitness=creator.FitnessMax )"
   ]
  },
  {
   "cell_type": "code",
   "execution_count": 8,
   "metadata": {},
   "outputs": [],
   "source": [
    "toolbox = base.Toolbox()\n",
    "random.seed(69)\n",
    "\n",
    "# Structure initializers\n",
    "toolbox.register(\"zero_or_one\", random.randint, 0, 1)\n",
    "toolbox.register(\"individual\", tools.initRepeat, creator.Individual, toolbox.zero_or_one, 196)\n",
    "toolbox.register(\"population\", tools.initRepeat, list, toolbox.individual)\n"
   ]
  },
  {
   "cell_type": "code",
   "execution_count": 9,
   "metadata": {},
   "outputs": [],
   "source": [
    "def evaluate_genome(individual):\n",
    "    ant = AntSimulator(Genome(individual))\n",
    "    eaten = ant.run()\n",
    "#     print(ant.moves)\n",
    "    return eaten,"
   ]
  },
  {
   "cell_type": "code",
   "execution_count": 34,
   "metadata": {},
   "outputs": [],
   "source": [
    "toolbox.register(\"evaluate\", evaluate_genome)\n",
    "toolbox.register(\"select\", tools.selTournament, tournsize=10)\n",
    "toolbox.register(\"mate\", tools.cxTwoPoint)\n",
    "toolbox.register(\"mutate\", tools.mutFlipBit, indpb=0.01)"
   ]
  },
  {
   "cell_type": "code",
   "execution_count": 36,
   "metadata": {
    "scrolled": false
   },
   "outputs": [],
   "source": [
    "def main():\n",
    "    random.seed(69)\n",
    "    pop = toolbox.population(n=500)\n",
    "    hof = tools.HallOfFame(1)\n",
    "    stats = tools.Statistics(lambda ind: ind.fitness.values)\n",
    "    stats.register(\"avg\", np.mean)\n",
    "    stats.register(\"std\", np.std)\n",
    "#     stats.register(\"min\", np.min)\n",
    "    stats.register(\"max\", np.max)\n",
    "    \n",
    "    pop, log = algorithms.eaSimple(pop, toolbox, 0.1, 0.8, 10000, stats=stats, verbose=True) #halloffame=hof, \n",
    "    print('done')\n",
    "    return pop, log"
   ]
  },
  {
   "cell_type": "code",
   "execution_count": null,
   "metadata": {
    "scrolled": true
   },
   "outputs": [
    {
     "name": "stdout",
     "output_type": "stream",
     "text": [
      "gen\tnevals\tavg  \tstd    \tmax\n",
      "0  \t500   \t3.872\t9.41783\t58 \n",
      "1  \t413   \t17.482\t15.8538\t58 \n",
      "2  \t413   \t30.564\t17.0573\t58 \n",
      "3  \t397   \t34.998\t17.2895\t58 \n",
      "4  \t403   \t41.818\t17.5855\t59 \n",
      "5  \t411   \t43.33 \t19.3828\t78 \n",
      "6  \t415   \t42.932\t20.0613\t78 \n",
      "7  \t410   \t43.6  \t21.5979\t79 \n",
      "8  \t407   \t46.662\t23.0202\t79 \n",
      "9  \t402   \t58.02 \t24.1326\t81 \n",
      "10 \t409   \t63.29 \t22.2996\t81 \n",
      "11 \t412   \t63.718\t22.8953\t81 \n",
      "12 \t420   \t64.58 \t23.0915\t81 \n",
      "13 \t404   \t64.158\t24.2234\t81 \n",
      "14 \t410   \t63.836\t25.368 \t81 \n",
      "15 \t407   \t64.48 \t23.4674\t81 \n",
      "16 \t396   \t65.636\t23.5715\t81 \n",
      "17 \t411   \t65.124\t23.8061\t81 \n",
      "18 \t416   \t65.492\t23.2276\t81 \n",
      "19 \t421   \t63.814\t24.8612\t81 \n",
      "20 \t423   \t63.586\t23.6211\t81 \n",
      "21 \t416   \t63.668\t24.0328\t81 \n",
      "22 \t413   \t65.096\t23.2439\t81 \n",
      "23 \t424   \t63.42 \t23.3011\t81 \n",
      "24 \t407   \t67.016\t21.74  \t81 \n",
      "25 \t415   \t65.144\t23.2131\t81 \n",
      "26 \t403   \t64.662\t24.3705\t81 \n",
      "27 \t391   \t67.542\t22.2767\t81 \n",
      "28 \t408   \t66.65 \t21.7713\t81 \n",
      "29 \t409   \t66.79 \t22.1808\t81 \n",
      "30 \t402   \t65.732\t22.7772\t81 \n",
      "31 \t400   \t66.52 \t22.664 \t81 \n",
      "32 \t418   \t64.968\t23.536 \t81 \n",
      "33 \t414   \t67.254\t22.309 \t81 \n",
      "34 \t402   \t67.104\t21.6131\t81 \n",
      "35 \t402   \t65.154\t23.545 \t81 \n",
      "36 \t415   \t66.178\t22.6624\t81 \n",
      "37 \t404   \t66.296\t22.8751\t81 \n",
      "38 \t416   \t65.41 \t23.0375\t81 \n",
      "39 \t399   \t63.632\t24.3395\t81 \n",
      "40 \t399   \t65.794\t22.9671\t81 \n",
      "41 \t389   \t66.372\t23.2126\t81 \n",
      "42 \t417   \t65.142\t23.4997\t81 \n",
      "43 \t424   \t65.662\t22.3941\t81 \n",
      "44 \t409   \t65.284\t22.9627\t81 \n",
      "45 \t408   \t65.398\t23.0401\t81 \n",
      "46 \t421   \t65.352\t23.3266\t81 \n",
      "47 \t409   \t66.332\t23.1144\t81 \n",
      "48 \t409   \t64.706\t24.1222\t81 \n",
      "49 \t411   \t65.042\t22.9501\t81 \n",
      "50 \t425   \t65.852\t23.0673\t81 \n",
      "51 \t411   \t66.638\t22.5363\t81 \n",
      "52 \t414   \t64.922\t23.2284\t81 \n",
      "53 \t418   \t64.886\t23.6904\t81 \n",
      "54 \t407   \t66.048\t22.673 \t81 \n",
      "55 \t415   \t66.312\t22.7247\t81 \n",
      "56 \t408   \t65.23 \t23.6719\t81 \n",
      "57 \t420   \t65.606\t23.8116\t81 \n",
      "58 \t421   \t64.958\t23.7825\t81 \n",
      "59 \t406   \t66.186\t22.681 \t81 \n",
      "60 \t419   \t64.208\t24.4294\t81 \n",
      "61 \t399   \t66.164\t23.6375\t81 \n",
      "62 \t407   \t65.362\t23.4446\t81 \n",
      "63 \t413   \t66.352\t23.1467\t81 \n",
      "64 \t415   \t66.14 \t22.1461\t81 \n",
      "65 \t419   \t66.942\t22.3451\t81 \n",
      "66 \t417   \t65.066\t23.4316\t81 \n",
      "67 \t404   \t65.942\t23.1172\t81 \n",
      "68 \t411   \t64.044\t24.9548\t81 \n",
      "69 \t399   \t66.648\t22.0832\t81 \n",
      "70 \t416   \t65.734\t23.183 \t81 \n",
      "71 \t398   \t66.02 \t22.6906\t81 \n",
      "72 \t408   \t65.87 \t23.4853\t81 \n",
      "73 \t398   \t65.752\t22.6424\t82 \n",
      "74 \t408   \t65.824\t22.7223\t82 \n",
      "75 \t416   \t65.566\t23.5502\t82 \n",
      "76 \t413   \t66.186\t22.5894\t82 \n",
      "77 \t396   \t67.852\t20.8293\t82 \n",
      "78 \t412   \t68.418\t20.7219\t82 \n",
      "79 \t423   \t66.536\t22.2957\t82 \n",
      "80 \t421   \t67.802\t21.5835\t82 \n",
      "81 \t409   \t68.422\t20.8961\t82 \n",
      "82 \t409   \t68.032\t20.826 \t82 \n",
      "83 \t411   \t68.628\t19.9977\t83 \n",
      "84 \t407   \t67.782\t21.2066\t83 \n",
      "85 \t406   \t68.45 \t20.4703\t83 \n",
      "86 \t399   \t68.39 \t20.7508\t83 \n",
      "87 \t418   \t68.522\t20.6347\t83 \n",
      "88 \t419   \t66.46 \t23.1532\t83 \n",
      "89 \t405   \t68.52 \t20.8639\t83 \n",
      "90 \t412   \t69.02 \t21.353 \t83 \n",
      "91 \t413   \t67.108\t21.2456\t83 \n"
     ]
    }
   ],
   "source": [
    "pop, log = main()"
   ]
  },
  {
   "cell_type": "code",
   "execution_count": null,
   "metadata": {},
   "outputs": [],
   "source": []
  },
  {
   "cell_type": "code",
   "execution_count": null,
   "metadata": {},
   "outputs": [],
   "source": []
  },
  {
   "cell_type": "code",
   "execution_count": null,
   "metadata": {},
   "outputs": [],
   "source": []
  },
  {
   "cell_type": "code",
   "execution_count": null,
   "metadata": {},
   "outputs": [],
   "source": []
  },
  {
   "cell_type": "code",
   "execution_count": null,
   "metadata": {},
   "outputs": [],
   "source": []
  },
  {
   "cell_type": "code",
   "execution_count": null,
   "metadata": {},
   "outputs": [],
   "source": []
  },
  {
   "cell_type": "code",
   "execution_count": null,
   "metadata": {},
   "outputs": [],
   "source": []
  },
  {
   "cell_type": "code",
   "execution_count": 24,
   "metadata": {},
   "outputs": [
    {
     "data": {
      "text/plain": [
       "['[0, 1, 0, 0, 0, 1, 0, 0, 0, 1, 0, 0, 1, 1, 1, 1, 0, 0, 0, 0, 0, 1, 0, 0, 0, 1, 1, 1, 0, 1, 0, 1, 1, 0, 0, 0, 1, 1, 0, 1, 0, 1, 1, 0, 0, 0, 0, 0, 0, 1, 1, 1, 0, 1, 0, 1, 0, 1, 1, 1, 1, 0, 1, 1, 1, 1, 0, 0, 0, 1, 0, 0, 1, 1, 1, 1, 1, 1, 0, 0, 1, 1, 0, 1, 1, 0, 0, 0, 1, 1, 1, 0, 1, 1, 1, 0, 0, 1, 0, 0, 1, 0, 0, 0, 0, 1, 1, 1, 1, 1, 1, 1, 0, 1, 1, 1, 0, 0, 1, 1, 1, 1, 1, 0, 0, 1, 0, 1, 1, 0, 0, 1, 1, 0, 0, 1, 0, 0, 1, 0, 1, 0, 1, 0, 1, 0, 0, 0, 1, 1, 1, 0, 1, 1, 1, 0, 0, 1, 0, 1, 1, 1, 0, 1, 1, 0, 0, 0, 0, 1, 1, 1, 0, 0, 0, 0, 0, 1, 1, 0, 0, 0, 1, 1, 0, 1, 1, 1, 1, 1, 1, 1, 1, 0, 0, 0]',\n",
       " '[0, 1, 0, 1, 0, 1, 0, 0, 0, 1, 0, 0, 1, 1, 1, 1, 0, 0, 0, 0, 0, 1, 0, 0, 0, 1, 1, 1, 1, 1, 1, 0, 1, 0, 0, 1, 0, 1, 0, 0, 0, 1, 1, 0, 0, 0, 0, 0, 0, 1, 1, 1, 0, 1, 0, 1, 0, 1, 0, 1, 0, 1, 0, 1, 1, 1, 0, 0, 0, 1, 0, 0, 1, 1, 1, 1, 1, 1, 0, 0, 1, 1, 1, 0, 1, 1, 0, 1, 1, 1, 1, 0, 1, 1, 0, 0, 0, 0, 0, 1, 1, 0, 0, 0, 0, 1, 1, 1, 1, 1, 1, 1, 0, 0, 0, 1, 1, 0, 1, 1, 0, 0, 0, 0, 1, 0, 1, 1, 1, 0, 0, 1, 1, 0, 0, 0, 0, 1, 0, 1, 0, 0, 1, 0, 0, 1, 0, 1, 1, 1, 1, 0, 1, 1, 0, 1, 1, 0, 1, 1, 1, 1, 0, 0, 0, 1, 1, 0, 1, 0, 0, 0, 0, 0, 0, 0, 0, 1, 1, 0, 0, 0, 1, 1, 0, 1, 1, 1, 1, 1, 1, 1, 1, 0, 0, 0]',\n",
       " '[0, 1, 0, 0, 0, 1, 0, 0, 0, 1, 0, 0, 1, 1, 1, 1, 0, 0, 0, 0, 0, 1, 0, 0, 0, 1, 1, 1, 1, 1, 1, 1, 1, 0, 0, 1, 0, 1, 0, 1, 0, 1, 1, 0, 0, 0, 0, 0, 0, 1, 1, 1, 0, 1, 0, 1, 0, 1, 1, 1, 0, 1, 0, 1, 1, 1, 0, 0, 0, 1, 0, 0, 1, 1, 1, 1, 1, 1, 0, 0, 1, 1, 1, 1, 0, 1, 0, 0, 1, 1, 1, 0, 1, 1, 0, 0, 0, 1, 0, 1, 1, 0, 0, 0, 0, 1, 1, 1, 1, 1, 1, 1, 0, 0, 1, 0, 0, 0, 1, 1, 0, 0, 1, 0, 1, 0, 1, 0, 1, 1, 1, 1, 1, 0, 0, 0, 0, 1, 1, 1, 0, 1, 0, 0, 0, 1, 0, 1, 1, 1, 1, 0, 1, 1, 0, 1, 1, 0, 1, 1, 0, 1, 0, 1, 1, 1, 1, 1, 0, 0, 0, 1, 0, 0, 0, 0, 0, 1, 1, 0, 0, 0, 1, 1, 0, 1, 1, 1, 1, 1, 1, 1, 1, 0, 0, 0]',\n",
       " '[0, 1, 0, 1, 0, 1, 0, 0, 0, 1, 0, 0, 1, 1, 1, 1, 0, 0, 0, 0, 0, 1, 0, 0, 0, 1, 1, 1, 0, 1, 0, 0, 0, 1, 1, 1, 0, 1, 0, 0, 0, 1, 1, 0, 0, 0, 0, 0, 0, 1, 1, 1, 0, 1, 0, 1, 0, 1, 1, 0, 0, 0, 1, 0, 1, 1, 0, 0, 0, 1, 0, 0, 1, 1, 1, 1, 1, 1, 0, 0, 1, 1, 0, 1, 0, 0, 0, 1, 1, 1, 1, 0, 1, 1, 1, 1, 1, 0, 1, 1, 1, 0, 0, 0, 0, 1, 1, 1, 1, 1, 1, 1, 0, 0, 0, 0, 0, 1, 0, 0, 0, 1, 0, 1, 1, 1, 1, 1, 0, 1, 0, 0, 0, 0, 1, 1, 0, 0, 0, 1, 1, 1, 1, 0, 0, 0, 1, 0, 1, 1, 1, 0, 1, 1, 0, 1, 0, 0, 1, 1, 0, 1, 0, 1, 1, 0, 0, 1, 0, 1, 0, 1, 0, 0, 0, 0, 0, 1, 1, 0, 0, 0, 1, 1, 0, 1, 1, 1, 1, 1, 1, 1, 1, 0, 0, 0]',\n",
       " '[0, 0, 0, 1, 0, 1, 0, 0, 0, 1, 0, 0, 1, 1, 1, 1, 0, 0, 0, 0, 0, 1, 0, 0, 0, 1, 1, 1, 1, 1, 1, 1, 0, 0, 0, 0, 1, 0, 0, 1, 0, 1, 1, 0, 0, 0, 0, 0, 0, 1, 1, 1, 0, 1, 0, 1, 0, 1, 0, 0, 1, 0, 1, 1, 1, 1, 0, 0, 0, 1, 0, 0, 1, 1, 1, 1, 1, 1, 0, 0, 1, 1, 0, 0, 1, 1, 0, 0, 1, 1, 1, 0, 1, 1, 1, 1, 0, 1, 0, 0, 1, 0, 0, 0, 0, 1, 1, 1, 1, 1, 1, 1, 0, 0, 0, 1, 1, 0, 0, 0, 1, 0, 0, 0, 0, 1, 1, 0, 1, 1, 1, 1, 0, 0, 0, 0, 0, 1, 0, 1, 0, 1, 0, 1, 0, 0, 0, 1, 1, 1, 1, 0, 1, 1, 1, 0, 1, 0, 0, 0, 1, 1, 1, 0, 0, 1, 0, 0, 1, 1, 1, 1, 0, 0, 0, 0, 0, 1, 1, 0, 0, 0, 1, 1, 0, 1, 1, 1, 1, 1, 1, 1, 1, 0, 0, 0]']"
      ]
     },
     "execution_count": 24,
     "metadata": {},
     "output_type": "execute_result"
    }
   ],
   "source": [
    "best = tools.selBest(pop, 5)\n",
    "[str(x) for x in best]"
   ]
  },
  {
   "cell_type": "code",
   "execution_count": 27,
   "metadata": {},
   "outputs": [],
   "source": [
    "one_best = AntSimulator(Genome(best[0]))"
   ]
  },
  {
   "cell_type": "code",
   "execution_count": 28,
   "metadata": {},
   "outputs": [
    {
     "data": {
      "text/plain": [
       "86"
      ]
     },
     "execution_count": 28,
     "metadata": {},
     "output_type": "execute_result"
    }
   ],
   "source": [
    "one_best.run()"
   ]
  },
  {
   "cell_type": "code",
   "execution_count": 32,
   "metadata": {
    "scrolled": false
   },
   "outputs": [
    {
     "name": "stdout",
     "output_type": "stream",
     "text": [
      "5 3 1 1 1 1 1 1 1 1 0 . . . . . . . . . . . . . . . . . . . . .\n",
      ". . . . . . . . . . 3 . . . . . . . . . . . . . . . . . . . . .\n",
      ". . . . . . . . . . 1 . . . . . . . . . . . . . . . . . . . . .\n",
      ". . . . . . . . . . 1 . . . . . . . . . . . . . . . . . . . . .\n",
      ". . . . . . . . . . 1 . . . . X . . . . . . . . . . . . . . . .\n",
      "1 1 3 5 . . . . . . 1 . . . . . . . . . . . . . 5 12 1 1 1 1 1 1\n",
      ". . . 1 . . . . . . 1 . . . . . . . . . . . . . 3 . . . . . . .\n",
      ". . . 1 . . . . . . 1 . . . X . . . . . . . . . 1 . . . . . . .\n",
      ". . . 1 . . . . . . 1 . X . . . . . . . . . . . 1 . . . . . . .\n",
      ". . . 3 . . . . . . 1 . . . . . . . . . . . . . 1 . . . . . . .\n",
      ". . . 0 1 1 1 1 1 3 0 . . . . . . . . . . . . . 12 . . . . . . .\n",
      ". . . . . . . . . . . 3 . . . . . . 5 12 1 1 1 3 0 . . . . . . .\n",
      ". . . . . . . . . . . 0 12 12 6 5 . . 3 . . . . . . . . . . . . .\n",
      ". . . . . . . . . . . . . . . 12 . . 1 . . . . . . . . . . . . .\n",
      ". . . . . . . . . . . . . . . 6 . . 1 . . . . . . . . . . . . .\n",
      ". . . . . . . . . . . 0 6 12 12 5 . . 1 . . . . . . . . . . . . .\n",
      ". . . . . . . . . . . 12 . . . . . . 1 . . . . . . . . . . . . .\n",
      ". . . . . . . . . . . 6 . . . . . . 12 . . . . . . . . . . . . .\n",
      ". . . . . . . 0 6 12 12 5 . . . . . . 12 . . . . . . . . . . . . .\n",
      ". . . . . . . 12 . . . . . . . . . . 14 . . . . . . . . . . . . .\n",
      ". . . . . . . 12 . . . . . . . . . . 8 . . . . . . . . . . . . .\n",
      ". . . . . . . 6 . . . . . . . . . . 14 . . . . . . . . . . . . .\n",
      ". . . . 0 6 12 5 . . . . . . . . . . 8 . . . . . . . . . . . . .\n",
      ". . . . 7 . . . . . . . . . . . . . 14 . . . . . . . . . . . . .\n",
      ". . . . 15 . . . . . . . . . . . . . 8 . . . . . . . . . . . . .\n",
      ". . . . 8 . . . . . . . . . . . . . 15 . . . . . . . . . . . . .\n",
      ". . . . 14 . . . . . . . . . . . . . 7 . . . . . . . . . . . . .\n",
      ". . . . 8 14 7 15 8 14 8 14 12 1 1 1 1 3 0 . . . . . . . . . . . . .\n",
      ". . . . . . . . . . . . . . . . . . . . . . . . . . . . . . . .\n",
      ". . . . . . . . . . . . . . . . . . . . . . . . . . . . . . . .\n",
      ". . . . . . . . . . . . . . . . . . . . . . . . . . . . . . . .\n",
      ". . . . . . . . . . . . . . . . . . . . . . . . . . . . . . . .\n",
      "5 3 1 1 1 1 1 1 1 1 0 . . . . . . . . . . . . . . . . . . . . .\n",
      ". . . . . . . . . . 3 . . . . . . . . . . . . . . . . . . . . .\n",
      ". . . . . . . . . . 1 . . . . . . . . . . . . . . . . . . . . .\n",
      ". . . . . . . . . . 1 . . . . . . . . . . . . . . . . . . . . .\n",
      ". . . . . . . . . . 1 . . . . X . . . . . . . . . . . . . . . .\n",
      "1 1 3 5 . . . . . . 1 . . . . . . . . . . . . . 5 12 1 1 1 1 1 1\n",
      ". . . 1 . . . . . . 1 . . . . . . . . . . . . . 3 . . . . . . .\n",
      ". . . 1 . . . . . . 1 . . . X . . . . . . . . . 1 . . . . . . .\n",
      ". . . 1 . . . . . . 1 . X . . . . . . . . . . . 1 . . . . . . .\n",
      ". . . 3 . . . . . . 1 . . . . . . . . . . . . . 1 . . . . . . .\n",
      ". . . 0 1 1 1 1 1 3 0 . . . . . . . . . . . . . 12 . . . . . . .\n",
      ". . . . . . . . . . . 6 . . . . . . 5 12 1 1 1 3 0 . . . . . . .\n",
      ". . . . . . . . . . . 0 12 12 6 5 . . 3 . . . . . . . . . . . . .\n",
      ". . . . . . . . . . . . . . . 12 . . 1 . . . . . . . . . . . . .\n",
      ". . . . . . . . . . . . . . . 6 . . 1 . . . . . . . . . . . . .\n",
      ". . . . . . . . . . . 0 6 12 12 5 . . 1 . . . . . . . . . . . . .\n",
      ". . . . . . . . . . . 12 . . . . . . 1 . . . . . . . . . . . . .\n",
      ". . . . . . . . . . . 6 . . . . . . 12 . . . . . . . . . . . . .\n",
      ". . . . . . . 0 6 12 12 5 . . . . . . 12 . . . . . . . . . . . . .\n",
      ". . . . . . . 12 . . . . . . . . . . 14 . . . . . . . . . . . . .\n",
      ". . . . . . . 12 . . . . . . . . . . 8 . . . . . . . . . . . . .\n",
      ". . . . . . . 6 . . . . . . . . . . 14 . . . . . . . . . . . . .\n",
      ". . . . 0 6 12 5 . . . . . . . . . . 8 . . . . . . . . . . . . .\n",
      ". . . . 7 . . . . . . . . . . . . . 14 . . . . . . . . . . . . .\n",
      ". . . . 15 . . . . . . . . . . . . . 8 . . . . . . . . . . . . .\n",
      ". . . . 8 . . . . . . . . . . . . . 15 . . . . . . . . . . . . .\n",
      ". . . . 14 . . . . . . . . . . . . . 7 . . . . . . . . . . . . .\n",
      ". . . . 8 14 7 15 8 14 8 14 12 1 1 1 1 3 0 . . . . . . . . . . . . .\n",
      ". . . . . . . . . . . . . . . . . . . . . . . . . . . . . . . .\n",
      ". . . . . . . . . . . . . . . . . . . . . . . . . . . . . . . .\n",
      ". . . . . . . . . . . . . . . . . . . . . . . . . . . . . . . .\n",
      ". . . . . . . . . . . . . . . . . . . . . . . . . . . . . . . .\n",
      "5 3 1 1 1 1 1 1 1 1 0 . . . . . . . . . . . . . . . . . . . . .\n",
      ". . . . . . . . . . 3 . . . . . . . . . . . . . . . . . . . . .\n",
      ". . . . . . . . . . 1 . . . . . . . . . . . . . . . . . . . . .\n",
      ". . . . . . . . . . 1 . . . . . . . . . . . . . . . . . . . . .\n",
      ". . . . . . . . . . 1 . . . . X . . . . . . . . . . . . . . . .\n",
      "1 1 3 5 . . . . . . 1 . . . . . . . . . . . . . 5 12 1 1 1 1 1 1\n",
      ". . . 1 . . . . . . 1 . . . . . . . . . . . . . 3 . . . . . . .\n",
      ". . . 1 . . . . . . 1 . . . X . . . . . . . . . 1 . . . . . . .\n",
      ". . . 1 . . . . . . 1 . X . . . . . . . . . . . 1 . . . . . . .\n",
      ". . . 3 . . . . . . 1 . . . . . . . . . . . . . 1 . . . . . . .\n",
      ". . . 0 1 1 1 1 1 3 0 . . . . . . . . . . . . . 12 . . . . . . .\n",
      ". . . . . . . . . . . 3 . . . . . . 5 12 1 1 1 3 0 . . . . . . .\n",
      ". . . . . . . . . . . 0 12 12 6 5 . . 3 . . . . . . . . . . . . .\n",
      ". . . . . . . . . . . . . . . 12 . . 1 . . . . . . . . . . . . .\n",
      ". . . . . . . . . . . . . . . 6 . . 1 . . . . . . . . . . . . .\n",
      ". . . . . . . . . . . 0 6 12 12 5 . . 1 . . . . . . . . . . . . .\n",
      ". . . . . . . . . . . 12 . . . . . . 1 . . . . . . . . . . . . .\n",
      ". . . . . . . . . . . 6 . . . . . . 12 . . . . . . . . . . . . .\n",
      ". . . . . . . 0 6 12 12 5 . . . . . . 12 . . . . . . . . . . . . .\n",
      ". . . . . . . 12 . . . . . . . . . . 14 . . . . . . . . . . . . .\n",
      ". . . . . . . 12 . . . . . . . . . . 8 . . . . . . . . . . . . .\n",
      ". . . . . . . 6 . . . . . . . . . . 14 . . . . . . . . . . . . .\n",
      ". . . . 0 6 12 5 . . . . . . . . . . 8 . . . . . . . . . . . . .\n",
      ". . . . 7 . . . . . . . . . . . . . 14 . . . . . . . . . . . . .\n",
      ". . . . 15 . . . . . . . . . . . . . 8 . . . . . . . . . . . . .\n",
      ". . . . 8 . . . . . . . . . . . . . 15 . . . . . . . . . . . . .\n",
      ". . . . 14 . . . . . . . . . . . . . 7 . . . . . . . . . . . . .\n",
      ". . . . 8 14 7 15 8 14 8 14 12 1 1 1 1 3 0 . . . . . . . . . . . . .\n",
      ". . . . . . . . . . . . . . . . . . . . . . . . . . . . . . . .\n",
      ". . . . . . . . . . . . . . . . . . . . . . . . . . . . . . . .\n",
      ". . . . . . . . . . . . . . . . . . . . . . . . . . . . . . . .\n",
      ". . . . . . . . . . . . . . . . . . . . . . . . . . . . . . . .\n",
      "5 3 1 1 1 1 1 1 1 1 0 . . . . . . . . . . . . . . . . . . . . .\n",
      ". . . . . . . . . . 3 . . . . . . . . . . . . . . . . . . . . .\n",
      ". . . . . . . . . . 1 . . . . . . . . . . . . . . . . . . . . .\n",
      ". . . . . . . . . . 1 . . . . . . . . . . . . . . . . . . . . .\n",
      ". . . . . . . . . . 1 . . . . X . . . . . . . . . . . . . . . .\n",
      "1 1 3 5 . . . . . . 1 . . . . . . . . . . . . . 5 12 1 1 1 1 1 1\n",
      ". . . 1 . . . . . . 1 . . . . . . . . . . . . . 3 . . . . . . .\n",
      ". . . 1 . . . . . . 1 . . . X . . . . . . . . . 1 . . . . . . .\n",
      ". . . 1 . . . . . . 1 . X . . . . . . . . . . . 1 . . . . . . .\n",
      ". . . 3 . . . . . . 1 . . . . . . . . . . . . . 1 . . . . . . .\n",
      ". . . 0 1 1 1 1 1 3 0 . . . . . . . . . . . . . 12 . . . . . . .\n",
      ". . . . . . . . . . . 6 . . . . . . 5 12 1 1 1 3 0 . . . . . . .\n",
      ". . . . . . . . . . . 0 12 12 6 5 . . 3 . . . . . . . . . . . . .\n",
      ". . . . . . . . . . . . . . . 12 . . 1 . . . . . . . . . . . . .\n",
      ". . . . . . . . . . . . . . . 6 . . 1 . . . . . . . . . . . . .\n",
      ". . . . . . . . . . . 0 6 12 12 5 . . 1 . . . . . . . . . . . . .\n",
      ". . . . . . . . . . . 12 . . . . . . 1 . . . . . . . . . . . . .\n",
      ". . . . . . . . . . . 6 . . . . . . 12 . . . . . . . . . . . . .\n",
      ". . . . . . . 0 6 12 12 5 . . . . . . 12 . . . . . . . . . . . . .\n",
      ". . . . . . . 12 . . . . . . . . . . 14 . . . . . . . . . . . . .\n",
      ". . . . . . . 12 . . . . . . . . . . 8 . . . . . . . . . . . . .\n",
      ". . . . . . . 6 . . . . . . . . . . 14 . . . . . . . . . . . . .\n",
      ". . . . 0 6 12 5 . . . . . . . . . . 8 . . . . . . . . . . . . .\n",
      ". . . . 7 . . . . . . . . . . . . . 14 . . . . . . . . . . . . .\n",
      ". . . . 15 . . . . . . . . . . . . . 8 . . . . . . . . . . . . .\n",
      ". . . . 8 . . . . . . . . . . . . . 15 . . . . . . . . . . . . .\n",
      ". . . . 14 . . . . . . . . . . . . . 7 . . . . . . . . . . . . .\n",
      ". . . . 8 14 7 15 8 14 8 14 12 1 1 1 1 3 0 . . . . . . . . . . . . .\n",
      ". . . . . . . . . . . . . . . . . . . . . . . . . . . . . . . .\n",
      ". . . . . . . . . . . . . . . . . . . . . . . . . . . . . . . .\n",
      ". . . . . . . . . . . . . . . . . . . . . . . . . . . . . . . .\n",
      ". . . . . . . . . . . . . . . . . . . . . . . . . . . . . . . .\n",
      "1 1 1 1 1 1 1 1 1 1 0 . . . . . . . . . . . . . . . . . . . . .\n",
      ". . . . . . . . . . 3 . . . . . . . . . . . . . . . . . . . . .\n",
      ". . . . . . . . . . 1 . . . . . . . . . . . . . . . . . . . . .\n",
      ". . . . . . . . . . 1 . . . . . . . . . . . . . . . . . . . . .\n",
      ". . . . . . . . . . 1 . . . . X . . . . . . . . . . . . . . . .\n",
      "1 1 3 5 . . . . . . 1 . . . . . . . . . . . . . 5 12 1 1 1 1 1 1\n",
      ". . . 1 . . . . . . 1 . . . . . . . . . . . . . 3 . . . . . . .\n",
      ". . . 1 . . . . . . 1 . . . X . . . . . . . . . 1 . . . . . . .\n",
      ". . . 1 . . . . . . 1 . X . . . . . . . . . . . 1 . . . . . . .\n",
      ". . . 3 . . . . . . 1 . . . . . . . . . . . . . 1 . . . . . . .\n",
      ". . . 0 1 1 1 1 1 3 0 . . . . . . . . . . . . . 12 . . . . . . .\n",
      ". . . . . . . . . . . 6 . . . . . . 5 12 1 1 1 3 0 . . . . . . .\n",
      ". . . . . . . . . . . 0 12 12 6 5 . . 3 . . . . . . . . . . . . .\n",
      ". . . . . . . . . . . . . . . 12 . . 1 . . . . . . . . . . . . .\n",
      ". . . . . . . . . . . . . . . 6 . . 1 . . . . . . . . . . . . .\n",
      ". . . . . . . . . . . 0 6 12 12 5 . . 1 . . . . . . . . . . . . .\n",
      ". . . . . . . . . . . 12 . . . . . . 1 . . . . . . . . . . . . .\n",
      ". . . . . . . . . . . 6 . . . . . . 12 . . . . . . . . . . . . .\n",
      ". . . . . . . 0 6 12 12 5 . . . . . . 12 . . . . . . . . . . . . .\n",
      ". . . . . . . 12 . . . . . . . . . . 14 . . . . . . . . . . . . .\n",
      ". . . . . . . 12 . . . . . . . . . . 8 . . . . . . . . . . . . .\n",
      ". . . . . . . 6 . . . . . . . . . . 14 . . . . . . . . . . . . .\n",
      ". . . . 0 6 12 5 . . . . . . . . . . 8 . . . . . . . . . . . . .\n",
      ". . . . 7 . . . . . . . . . . . . . 14 . . . . . . . . . . . . .\n",
      ". . . . 15 . . . . . . . . . . . . . 8 . . . . . . . . . . . . .\n",
      ". . . . 8 . . . . . . . . . . . . . 15 . . . . . . . . . . . . .\n",
      ". . . . 14 . . . . . . . . . . . . . 7 . . . . . . . . . . . . .\n",
      ". . . . 8 14 7 15 8 14 8 14 12 1 1 1 1 3 0 . . . . . . . . . . . . .\n",
      ". . . . . . . . . . . . . . . . . . . . . . . . . . . . . . . .\n",
      ". . . . . . . . . . . . . . . . . . . . . . . . . . . . . . . .\n",
      ". . . . . . . . . . . . . . . . . . . . . . . . . . . . . . . .\n",
      ". . . . . . . . . . . . . . . . . . . . . . . . . . . . . . . .\n"
     ]
    }
   ],
   "source": [
    "for b in best:\n",
    "    ant_best = AntSimulator(Genome(b))\n",
    "    ant_best.run()\n",
    "    show_map(ant_best.matrix_exc)"
   ]
  },
  {
   "cell_type": "code",
   "execution_count": null,
   "metadata": {},
   "outputs": [],
   "source": []
  },
  {
   "cell_type": "code",
   "execution_count": null,
   "metadata": {},
   "outputs": [],
   "source": []
  },
  {
   "cell_type": "code",
   "execution_count": null,
   "metadata": {},
   "outputs": [],
   "source": []
  },
  {
   "cell_type": "code",
   "execution_count": null,
   "metadata": {},
   "outputs": [],
   "source": []
  },
  {
   "cell_type": "code",
   "execution_count": null,
   "metadata": {},
   "outputs": [],
   "source": []
  },
  {
   "cell_type": "code",
   "execution_count": null,
   "metadata": {},
   "outputs": [],
   "source": []
  },
  {
   "cell_type": "code",
   "execution_count": 33,
   "metadata": {},
   "outputs": [],
   "source": [
    "# import pickle\n",
    "# with open(\"log_86_ant_best.pkl\", \"wb\") as output_file:\n",
    "#     pickle.dump(log, output_file)\n",
    "\n",
    "# with open(\"pop_86_ant_best.pkl\", \"wb\") as output_file:\n",
    "#     pickle.dump(pop, output_file)"
   ]
  },
  {
   "cell_type": "code",
   "execution_count": null,
   "metadata": {},
   "outputs": [],
   "source": []
  },
  {
   "cell_type": "code",
   "execution_count": 21,
   "metadata": {},
   "outputs": [],
   "source": []
  },
  {
   "cell_type": "code",
   "execution_count": 22,
   "metadata": {},
   "outputs": [],
   "source": []
  },
  {
   "cell_type": "code",
   "execution_count": 481,
   "metadata": {},
   "outputs": [],
   "source": [
    "best = tools.selBest(pop, 1)[0]"
   ]
  },
  {
   "cell_type": "code",
   "execution_count": null,
   "metadata": {},
   "outputs": [],
   "source": []
  },
  {
   "cell_type": "code",
   "execution_count": null,
   "metadata": {},
   "outputs": [],
   "source": []
  },
  {
   "cell_type": "code",
   "execution_count": null,
   "metadata": {},
   "outputs": [],
   "source": []
  },
  {
   "cell_type": "code",
   "execution_count": null,
   "metadata": {},
   "outputs": [],
   "source": []
  },
  {
   "cell_type": "code",
   "execution_count": null,
   "metadata": {},
   "outputs": [],
   "source": []
  },
  {
   "cell_type": "code",
   "execution_count": null,
   "metadata": {},
   "outputs": [],
   "source": []
  },
  {
   "cell_type": "code",
   "execution_count": null,
   "metadata": {},
   "outputs": [],
   "source": []
  },
  {
   "cell_type": "code",
   "execution_count": null,
   "metadata": {},
   "outputs": [],
   "source": []
  },
  {
   "cell_type": "code",
   "execution_count": null,
   "metadata": {},
   "outputs": [],
   "source": []
  },
  {
   "cell_type": "code",
   "execution_count": null,
   "metadata": {},
   "outputs": [],
   "source": []
  },
  {
   "cell_type": "code",
   "execution_count": null,
   "metadata": {},
   "outputs": [],
   "source": []
  },
  {
   "cell_type": "code",
   "execution_count": null,
   "metadata": {},
   "outputs": [],
   "source": []
  },
  {
   "cell_type": "code",
   "execution_count": null,
   "metadata": {},
   "outputs": [],
   "source": []
  },
  {
   "cell_type": "code",
   "execution_count": null,
   "metadata": {},
   "outputs": [],
   "source": []
  },
  {
   "cell_type": "code",
   "execution_count": null,
   "metadata": {},
   "outputs": [],
   "source": []
  }
 ],
 "metadata": {
  "kernelspec": {
   "display_name": "Python 3",
   "language": "python",
   "name": "python3"
  },
  "language_info": {
   "codemirror_mode": {
    "name": "ipython",
    "version": 3
   },
   "file_extension": ".py",
   "mimetype": "text/x-python",
   "name": "python",
   "nbconvert_exporter": "python",
   "pygments_lexer": "ipython3",
   "version": "3.6.6"
  }
 },
 "nbformat": 4,
 "nbformat_minor": 2
}
