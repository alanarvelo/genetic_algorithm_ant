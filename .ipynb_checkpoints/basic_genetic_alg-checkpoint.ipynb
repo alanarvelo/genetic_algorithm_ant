{
 "cells": [
  {
   "cell_type": "code",
   "execution_count": 118,
   "metadata": {},
   "outputs": [
    {
     "name": "stdout",
     "output_type": "stream",
     "text": [
      "Once deleted, variables cannot be recovered. Proceed (y/[n])? y\n"
     ]
    }
   ],
   "source": [
    "%reset"
   ]
  },
  {
   "cell_type": "markdown",
   "metadata": {},
   "source": [
    "## Basic Genetic Algorithm"
   ]
  },
  {
   "cell_type": "code",
   "execution_count": 119,
   "metadata": {},
   "outputs": [
    {
     "data": {
      "text/plain": [
       "(100, 100)"
      ]
     },
     "execution_count": 119,
     "metadata": {},
     "output_type": "execute_result"
    }
   ],
   "source": [
    "# Here are 5 numbers when added, we get a hundred.\n",
    "list1 = [100, 0, 0, 0, 0]\n",
    "list2 = [20, 21, 19, 15, 25]\n",
    "(sum(list1), sum(list2))"
   ]
  },
  {
   "cell_type": "markdown",
   "metadata": {},
   "source": [
    "- These 5 numbers in combination make a hundred in sum.\n",
    "- Let’s find the those combination of 5 numbers using GA."
   ]
  },
  {
   "cell_type": "markdown",
   "metadata": {},
   "source": [
    "### Setting things up"
   ]
  },
  {
   "cell_type": "code",
   "execution_count": 155,
   "metadata": {},
   "outputs": [],
   "source": [
    "import random\n",
    "import json\n",
    "import numpy as np, pandas as pd\n",
    "from deap import base, creator, tools, algorithms\n",
    "import matplotlib as plt"
   ]
  },
  {
   "cell_type": "code",
   "execution_count": 125,
   "metadata": {},
   "outputs": [],
   "source": [
    "creator.create(\"FitnessMin\", base.Fitness, weights=(-1.0,))\n",
    "creator.create(\"Individual\", list, fitness=creator.FitnessMin)\n",
    "\n",
    "IND_SIZE=5\n",
    "\n",
    "toolbox = base.Toolbox()\n",
    "toolbox.register(\"attr_float\", random.randint, 0, 100)\n",
    "toolbox.register(\"individual\", tools.initRepeat, creator.Individual,\n",
    "                 toolbox.attr_float, n=IND_SIZE)\n",
    "toolbox.register(\"population\", tools.initRepeat, list, toolbox.individual)"
   ]
  },
  {
   "cell_type": "code",
   "execution_count": 126,
   "metadata": {},
   "outputs": [
    {
     "data": {
      "text/plain": [
       "89"
      ]
     },
     "execution_count": 126,
     "metadata": {},
     "output_type": "execute_result"
    }
   ],
   "source": [
    "toolbox.attr_float()"
   ]
  },
  {
   "cell_type": "code",
   "execution_count": 135,
   "metadata": {},
   "outputs": [
    {
     "data": {
      "text/plain": [
       "[38, 9, 82, 22, 67]"
      ]
     },
     "execution_count": 135,
     "metadata": {},
     "output_type": "execute_result"
    }
   ],
   "source": [
    "# sample individual/genotype\n",
    "toolbox.individual()"
   ]
  },
  {
   "cell_type": "code",
   "execution_count": 136,
   "metadata": {},
   "outputs": [
    {
     "data": {
      "text/plain": [
       "[[43, 63, 86, 78, 84],\n",
       " [59, 62, 95, 50, 16],\n",
       " [40, 85, 36, 21, 69],\n",
       " [11, 0, 9, 5, 51],\n",
       " [88, 16, 30, 71, 26],\n",
       " [81, 43, 51, 100, 86],\n",
       " [25, 37, 100, 5, 34],\n",
       " [42, 84, 26, 25, 40],\n",
       " [49, 48, 60, 71, 49],\n",
       " [92, 92, 87, 49, 32]]"
      ]
     },
     "execution_count": 136,
     "metadata": {},
     "output_type": "execute_result"
    }
   ],
   "source": [
    "# sample population\n",
    "toolbox.population(10)"
   ]
  },
  {
   "cell_type": "markdown",
   "metadata": {},
   "source": [
    "## The Objective/Fitness function"
   ]
  },
  {
   "cell_type": "code",
   "execution_count": 138,
   "metadata": {},
   "outputs": [],
   "source": [
    "def sum_error(individual):\n",
    "    return abs(100 - sum(individual)),"
   ]
  },
  {
   "cell_type": "code",
   "execution_count": 139,
   "metadata": {},
   "outputs": [
    {
     "data": {
      "text/plain": [
       "([13, 46, 97, 15, 42], 213, (113,))"
      ]
     },
     "execution_count": 139,
     "metadata": {},
     "output_type": "execute_result"
    }
   ],
   "source": [
    "ind = toolbox.individual()\n",
    "ind, sum(ind), sum_error(ind)"
   ]
  },
  {
   "cell_type": "code",
   "execution_count": null,
   "metadata": {},
   "outputs": [],
   "source": []
  },
  {
   "cell_type": "markdown",
   "metadata": {},
   "source": [
    "## Operators"
   ]
  },
  {
   "cell_type": "code",
   "execution_count": 142,
   "metadata": {},
   "outputs": [],
   "source": [
    "toolbox.register(\"evaluate\", sum_error)"
   ]
  },
  {
   "cell_type": "code",
   "execution_count": 143,
   "metadata": {},
   "outputs": [],
   "source": [
    "toolbox.register(\"mate\", tools.cxTwoPoint)\n",
    "toolbox.register(\"mutate\", tools.mutUniformInt, low=0, up=100, indpb=0.2) # Independent probability  : for each attribute to be mutated.# low~up rondom int\n",
    "toolbox.register(\"select\", tools.selTournament, tournsize=3)"
   ]
  },
  {
   "cell_type": "code",
   "execution_count": null,
   "metadata": {},
   "outputs": [],
   "source": []
  },
  {
   "cell_type": "markdown",
   "metadata": {},
   "source": [
    "## Evolving the population"
   ]
  },
  {
   "cell_type": "markdown",
   "metadata": {},
   "source": [
    "Creating the population"
   ]
  },
  {
   "cell_type": "code",
   "execution_count": 146,
   "metadata": {
    "scrolled": true
   },
   "outputs": [
    {
     "data": {
      "text/plain": [
       "[[14, 50, 97, 6, 31],\n",
       " [52, 70, 29, 29, 28],\n",
       " [94, 70, 18, 53, 48],\n",
       " [32, 79, 28, 83, 83],\n",
       " [57, 3, 50, 43, 49],\n",
       " [50, 30, 36, 77, 23],\n",
       " [51, 81, 23, 84, 34],\n",
       " [96, 73, 60, 100, 62],\n",
       " [12, 47, 2, 76, 28],\n",
       " [66, 26, 16, 75, 98],\n",
       " [45, 36, 58, 0, 30],\n",
       " [19, 21, 52, 14, 81],\n",
       " [69, 26, 59, 29, 96],\n",
       " [94, 40, 96, 100, 96],\n",
       " [3, 27, 40, 53, 40],\n",
       " [22, 94, 48, 26, 6],\n",
       " [17, 94, 83, 91, 2],\n",
       " [42, 13, 84, 2, 11],\n",
       " [75, 18, 6, 60, 54],\n",
       " [65, 42, 99, 57, 59],\n",
       " [3, 52, 5, 82, 67],\n",
       " [62, 49, 56, 10, 6],\n",
       " [11, 59, 99, 85, 67],\n",
       " [98, 68, 37, 88, 34],\n",
       " [57, 32, 16, 89, 77],\n",
       " [14, 57, 97, 10, 87],\n",
       " [84, 89, 91, 70, 23],\n",
       " [34, 87, 60, 73, 4],\n",
       " [20, 79, 38, 0, 90],\n",
       " [92, 30, 11, 23, 8],\n",
       " [1, 94, 22, 13, 81],\n",
       " [81, 15, 14, 10, 35],\n",
       " [8, 21, 88, 76, 82],\n",
       " [55, 86, 61, 30, 80],\n",
       " [2, 13, 99, 43, 54],\n",
       " [52, 62, 71, 96, 86],\n",
       " [29, 67, 100, 20, 35],\n",
       " [27, 61, 96, 43, 5],\n",
       " [95, 26, 53, 30, 96],\n",
       " [21, 6, 53, 98, 0],\n",
       " [9, 5, 14, 84, 53],\n",
       " [98, 95, 17, 43, 25],\n",
       " [94, 46, 49, 41, 58],\n",
       " [8, 80, 36, 21, 21],\n",
       " [31, 99, 7, 66, 3],\n",
       " [96, 23, 68, 20, 9],\n",
       " [55, 76, 15, 21, 99],\n",
       " [53, 76, 43, 90, 6],\n",
       " [22, 34, 91, 82, 39],\n",
       " [52, 85, 84, 41, 100],\n",
       " [83, 15, 79, 42, 95],\n",
       " [91, 71, 30, 71, 21],\n",
       " [97, 50, 29, 78, 31],\n",
       " [26, 92, 100, 53, 2],\n",
       " [4, 29, 27, 37, 99],\n",
       " [76, 11, 68, 97, 18],\n",
       " [48, 31, 66, 52, 87],\n",
       " [100, 97, 4, 35, 66],\n",
       " [53, 36, 49, 49, 27],\n",
       " [36, 4, 98, 43, 35],\n",
       " [30, 7, 31, 4, 77],\n",
       " [28, 43, 87, 30, 39],\n",
       " [43, 19, 21, 99, 74],\n",
       " [37, 64, 80, 50, 22],\n",
       " [54, 85, 10, 2, 99],\n",
       " [77, 35, 85, 61, 41],\n",
       " [31, 84, 91, 19, 23],\n",
       " [78, 20, 55, 19, 6],\n",
       " [44, 22, 26, 71, 82],\n",
       " [78, 8, 78, 28, 23],\n",
       " [72, 63, 29, 3, 5],\n",
       " [64, 19, 65, 59, 88],\n",
       " [28, 81, 18, 70, 67],\n",
       " [64, 23, 71, 22, 74],\n",
       " [86, 74, 48, 61, 61],\n",
       " [85, 34, 21, 98, 84],\n",
       " [47, 36, 88, 8, 32],\n",
       " [88, 74, 51, 64, 66],\n",
       " [29, 9, 55, 7, 99],\n",
       " [64, 8, 29, 82, 69],\n",
       " [24, 65, 0, 93, 2],\n",
       " [95, 16, 32, 59, 70],\n",
       " [100, 86, 10, 74, 19],\n",
       " [33, 43, 97, 56, 1],\n",
       " [70, 4, 100, 56, 45],\n",
       " [15, 29, 95, 56, 30],\n",
       " [25, 52, 14, 38, 80],\n",
       " [75, 14, 8, 34, 22],\n",
       " [90, 81, 57, 42, 33],\n",
       " [14, 24, 88, 85, 76],\n",
       " [92, 4, 81, 36, 10],\n",
       " [24, 32, 11, 47, 84],\n",
       " [87, 70, 7, 28, 91],\n",
       " [98, 26, 47, 22, 24],\n",
       " [71, 41, 78, 80, 40],\n",
       " [52, 95, 65, 64, 39],\n",
       " [3, 3, 98, 75, 57],\n",
       " [76, 10, 30, 43, 72],\n",
       " [19, 91, 80, 55, 59],\n",
       " [26, 93, 54, 26, 8]]"
      ]
     },
     "execution_count": 146,
     "metadata": {},
     "output_type": "execute_result"
    }
   ],
   "source": [
    "pop = toolbox.population(100)\n",
    "pop"
   ]
  },
  {
   "cell_type": "code",
   "execution_count": 147,
   "metadata": {},
   "outputs": [],
   "source": [
    "# Use of a HallOfFame in order to keep track of the best individual to appear in the evolution \n",
    "# (it keeps it even in the case it extinguishes)\n",
    "hof = tools.HallOfFame(1)"
   ]
  },
  {
   "cell_type": "code",
   "execution_count": 148,
   "metadata": {},
   "outputs": [],
   "source": [
    "stats = tools.Statistics(lambda ind: ind.fitness.values)\n",
    "stats.register(\"avg\", np.mean)\n",
    "stats.register(\"std\", np.std)\n",
    "stats.register(\"min\", np.min)\n",
    "stats.register(\"max\", np.max)"
   ]
  },
  {
   "cell_type": "code",
   "execution_count": 151,
   "metadata": {},
   "outputs": [
    {
     "name": "stdout",
     "output_type": "stream",
     "text": [
      "gen\tnevals\tavg   \tstd    \tmin\tmax\n",
      "0  \t100   \t150.22\t57.4612\t49 \t326\n",
      "1  \t56    \t109.56\t48.9036\t1  \t223\n",
      "2  \t61    \t68.25 \t43.3311\t1  \t191\n",
      "3  \t69    \t42.98 \t37.769 \t0  \t202\n",
      "4  \t66    \t26.72 \t29.1332\t0  \t183\n",
      "5  \t54    \t15.58 \t20.8471\t0  \t111\n",
      "6  \t43    \t13.68 \t22.2238\t0  \t122\n",
      "7  \t52    \t9.36  \t19.9592\t0  \t119\n",
      "8  \t58    \t10.78 \t28.8515\t0  \t224\n",
      "9  \t53    \t12.39 \t21.2631\t0  \t105\n",
      "10 \t63    \t14.38 \t27.2198\t0  \t175\n",
      "11 \t52    \t16.76 \t30.8302\t0  \t148\n",
      "12 \t67    \t17.84 \t26.9265\t0  \t116\n",
      "13 \t64    \t11.69 \t20.8723\t0  \t98 \n",
      "14 \t56    \t6.18  \t16.6303\t0  \t129\n",
      "15 \t65    \t10.99 \t26.9167\t0  \t157\n",
      "16 \t69    \t5.83  \t18.8016\t0  \t105\n",
      "17 \t60    \t3.69  \t19.2139\t0  \t158\n",
      "18 \t58    \t7.4   \t25.0535\t0  \t159\n",
      "19 \t63    \t7.27  \t24.8788\t0  \t170\n",
      "20 \t62    \t7.04  \t20.4044\t0  \t89 \n",
      "21 \t65    \t9.72  \t28.9095\t0  \t155\n",
      "22 \t71    \t7.17  \t21.3561\t0  \t126\n",
      "23 \t63    \t8.9   \t27.0102\t0  \t160\n",
      "24 \t58    \t5.76  \t21.21  \t0  \t129\n",
      "25 \t66    \t8.22  \t24.5192\t0  \t125\n",
      "26 \t61    \t8.2   \t24.9471\t0  \t153\n",
      "27 \t56    \t7.29  \t22.9235\t0  \t158\n",
      "28 \t52    \t0.97  \t6.43188\t0  \t59 \n",
      "29 \t63    \t6.46  \t21.2191\t0  \t127\n",
      "30 \t54    \t8.78  \t24.9502\t0  \t158\n",
      "31 \t65    \t7.83  \t25.7018\t0  \t143\n",
      "32 \t56    \t7.78  \t24.9566\t0  \t157\n",
      "33 \t57    \t10.08 \t25.8402\t0  \t129\n",
      "34 \t81    \t8.78  \t23.1515\t0  \t118\n",
      "35 \t61    \t9.41  \t32.5033\t0  \t211\n",
      "36 \t65    \t7.83  \t21.6883\t0  \t103\n",
      "37 \t63    \t4.14  \t17.8589\t0  \t129\n",
      "38 \t40    \t5.39  \t16.886 \t0  \t93 \n",
      "39 \t59    \t7.29  \t22.3514\t0  \t138\n",
      "40 \t60    \t6.8   \t24.7471\t0  \t133\n"
     ]
    }
   ],
   "source": [
    "# algorithms : contains useful implements some basic GA\n",
    "NGEN = 40\n",
    "pop, log = algorithms.eaSimple(pop, toolbox, cxpb=0.5, mutpb=0.2, ngen=NGEN, stats=stats, halloffame=hof, verbose=True)"
   ]
  },
  {
   "cell_type": "code",
   "execution_count": 153,
   "metadata": {
    "scrolled": true
   },
   "outputs": [
    {
     "data": {
      "text/plain": [
       "[100,\n",
       " 100,\n",
       " 100,\n",
       " 100,\n",
       " 100,\n",
       " 137,\n",
       " 100,\n",
       " 100,\n",
       " 100,\n",
       " 100,\n",
       " 100,\n",
       " 100,\n",
       " 100,\n",
       " 100,\n",
       " 100,\n",
       " 100,\n",
       " 100,\n",
       " 100,\n",
       " 100,\n",
       " 100,\n",
       " 100,\n",
       " 100,\n",
       " 100,\n",
       " 100,\n",
       " 100,\n",
       " 100,\n",
       " 100,\n",
       " 100,\n",
       " 100,\n",
       " 100,\n",
       " 100,\n",
       " 100,\n",
       " 100,\n",
       " 100,\n",
       " 100,\n",
       " 100,\n",
       " 100,\n",
       " 100,\n",
       " 100,\n",
       " 100,\n",
       " 100,\n",
       " 100,\n",
       " 100,\n",
       " 100,\n",
       " 100,\n",
       " 100,\n",
       " 100,\n",
       " 100,\n",
       " 100,\n",
       " 212,\n",
       " 100,\n",
       " 101,\n",
       " 100,\n",
       " 100,\n",
       " 100,\n",
       " 100,\n",
       " 74,\n",
       " 100,\n",
       " 100,\n",
       " 100,\n",
       " 100,\n",
       " 100,\n",
       " 190,\n",
       " 100,\n",
       " 233,\n",
       " 100,\n",
       " 100,\n",
       " 100,\n",
       " 100,\n",
       " 100,\n",
       " 101,\n",
       " 100,\n",
       " 227,\n",
       " 100,\n",
       " 100,\n",
       " 100,\n",
       " 100,\n",
       " 100,\n",
       " 100,\n",
       " 100,\n",
       " 100,\n",
       " 128,\n",
       " 143,\n",
       " 100,\n",
       " 100,\n",
       " 100,\n",
       " 100,\n",
       " 100,\n",
       " 182,\n",
       " 100,\n",
       " 100,\n",
       " 100,\n",
       " 100,\n",
       " 100,\n",
       " 100,\n",
       " 100,\n",
       " 100,\n",
       " 100,\n",
       " 100,\n",
       " 100]"
      ]
     },
     "execution_count": 153,
     "metadata": {},
     "output_type": "execute_result"
    }
   ],
   "source": [
    "[sum(ind) for ind in pop]"
   ]
  },
  {
   "cell_type": "code",
   "execution_count": 154,
   "metadata": {},
   "outputs": [
    {
     "data": {
      "text/plain": [
       "[[19, 7, 68, 0, 6], [19, 7, 68, 0, 6], [19, 7, 68, 0, 6]]"
      ]
     },
     "execution_count": 154,
     "metadata": {},
     "output_type": "execute_result"
    }
   ],
   "source": [
    "tools.selBest(pop, k=3)"
   ]
  },
  {
   "cell_type": "code",
   "execution_count": null,
   "metadata": {},
   "outputs": [],
   "source": []
  },
  {
   "cell_type": "code",
   "execution_count": null,
   "metadata": {},
   "outputs": [],
   "source": [
    "x = list(range(0, strategy.lambda_ * NGEN, strategy.lambda_))\n",
    "avg, max_, min_ = logbook.select(\"avg\", \"max\", \"min\")\n",
    "plt.figure()\n",
    "plt.subplot(2, 2, 1)\n",
    "plt.semilogy(x, avg, \"--b\")\n",
    "plt.semilogy(x, max_, \"--b\")\n",
    "plt.semilogy(x, min_, \"-b\")\n",
    "plt.semilogy(x, fbest, \"-c\")\n",
    "plt.semilogy(x, sigma, \"-g\")\n",
    "plt.semilogy(x, axis_ratio, \"-r\")\n",
    "plt.grid(True)\n",
    "plt.title(\"blue: f-values, green: sigma, red: axis ratio\")"
   ]
  },
  {
   "cell_type": "code",
   "execution_count": null,
   "metadata": {},
   "outputs": [],
   "source": []
  }
 ],
 "metadata": {
  "kernelspec": {
   "display_name": "Python 3",
   "language": "python",
   "name": "python3"
  },
  "language_info": {
   "codemirror_mode": {
    "name": "ipython",
    "version": 3
   },
   "file_extension": ".py",
   "mimetype": "text/x-python",
   "name": "python",
   "nbconvert_exporter": "python",
   "pygments_lexer": "ipython3",
   "version": "3.6.6"
  }
 },
 "nbformat": 4,
 "nbformat_minor": 2
}
