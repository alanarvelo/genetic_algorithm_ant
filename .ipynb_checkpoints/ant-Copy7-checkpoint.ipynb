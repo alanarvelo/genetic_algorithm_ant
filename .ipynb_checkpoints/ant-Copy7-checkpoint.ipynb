{
 "cells": [
  {
   "cell_type": "code",
   "execution_count": 1,
   "metadata": {
    "scrolled": true
   },
   "outputs": [
    {
     "name": "stdout",
     "output_type": "stream",
     "text": [
      "Once deleted, variables cannot be recovered. Proceed (y/[n])? y\n"
     ]
    }
   ],
   "source": [
    "%reset"
   ]
  },
  {
   "cell_type": "code",
   "execution_count": 2,
   "metadata": {},
   "outputs": [],
   "source": [
    "import random\n",
    "import json\n",
    "import numpy as np, pandas as pd\n",
    "from deap import base, creator, tools, algorithms, gp\n",
    "from pprint import pprint\n",
    "from dask.diagnostics import ProgressBar\n",
    "import copy\n",
    "from functools import partial"
   ]
  },
  {
   "cell_type": "code",
   "execution_count": 3,
   "metadata": {},
   "outputs": [
    {
     "data": {
      "text/html": [
       "<style>.container { width:90% !important; }</style>"
      ],
      "text/plain": [
       "<IPython.core.display.HTML object>"
      ]
     },
     "metadata": {},
     "output_type": "display_data"
    }
   ],
   "source": [
    "from IPython.core.display import display, HTML\n",
    "display(HTML(\"<style>.container { width:90% !important; }</style>\"))"
   ]
  },
  {
   "cell_type": "code",
   "execution_count": 4,
   "metadata": {},
   "outputs": [],
   "source": [
    "# utility functions\n",
    "\n",
    "def progn(*args):\n",
    "    for arg in args:\n",
    "        arg()\n",
    "\n",
    "def prog2(out1, out2): \n",
    "    return partial(progn,out1,out2)\n",
    "\n",
    "def prog3(out1, out2, out3):     \n",
    "    return partial(progn,out1,out2,out3)\n",
    "\n",
    "def if_then_else(condition, out1, out2):\n",
    "    print(\"if then else\")\n",
    "    out1() if condition() else out2()\n",
    "    \n",
    "def fourbits2int(b3, b2, b1, b0):\n",
    "    return b0*1 + b1*2 + b2*4 + b3*8\n",
    "\n",
    "def twobits2int(b1, b0):\n",
    "    return b0*1 + b1*2\n",
    "\n",
    "def show_map(mtx):\n",
    "    for row in mtx:\n",
    "        print(\" \".join(map(str, row)))"
   ]
  },
  {
   "cell_type": "code",
   "execution_count": 5,
   "metadata": {},
   "outputs": [],
   "source": [
    "class Genome(list):\n",
    "    num_states = 16\n",
    "#     genome = \"01000101000011001001000011001101000011010001000011000011000011\" # 62 in length\n",
    "#     genome_list = [int(x) for x in genome_list]\n",
    "    \n",
    "    def __init__(self, genome):\n",
    "        self.transitions_food = []\n",
    "        self.actions_food = []\n",
    "        self.transitions_no_food = []\n",
    "        self.actions_no_food = []\n",
    "        self.bits = genome\n",
    "        self.start_state = fourbits2int(*self.bits[0:4])\n",
    "        \n",
    "        for s in range(0, self.num_states):\n",
    "            self.transitions_no_food.insert(s, fourbits2int( *self.bits[(4 + s*12):(8 + s*12)] ) )\n",
    "            self.actions_no_food.insert(s, twobits2int( *self.bits[(8 + s*12):(10 + s*12)] ) )\n",
    "            \n",
    "            self.transitions_food.insert(s, fourbits2int( *self.bits[(10 + s*12):(14 + s*12)] ) )\n",
    "            self.actions_food.insert(s, twobits2int( *self.bits[(14 + s*12):(16 + s*12)] ) )\n"
   ]
  },
  {
   "cell_type": "code",
   "execution_count": 6,
   "metadata": {},
   "outputs": [],
   "source": [
    "# Ant Class\n",
    "\n",
    "class AntSimulator(Genome):\n",
    "    direction = [\"north\", \"east\",\"south\", \"west\"]\n",
    "    dir_row = [-1, 0, 1, 0]\n",
    "    dir_col = [0, 1, 0, -1]\n",
    "    \n",
    "    \n",
    "    def __init__(self, Genome):\n",
    "        self.max_moves = 200\n",
    "        self.moves = 0\n",
    "        self.eaten = 0\n",
    "        self.routine = None\n",
    "        self.genotype = Genome\n",
    "        self.current_state = self.genotype.start_state\n",
    "        self.memorize_map()\n",
    "        \n",
    "        \n",
    "    def _reset(self):\n",
    "        self.row = self.row_start \n",
    "        self.col = self.col_start \n",
    "        self.dir = self.genotype.start_state % 4\n",
    "        self.moves = 0\n",
    "        self.eaten = 0\n",
    "        self.current_state = self.genotype.start_state\n",
    "        self.matrix_exc = copy.deepcopy(self.matrix)\n",
    "        self.matrix_exc2 = copy.deepcopy(self.matrix_exc)\n",
    "        \n",
    "        \n",
    "    @property\n",
    "    def position(self):\n",
    "        return (self.row, self.col, self.direction[self.dir])\n",
    "    \n",
    "    def memorize_map(self):\n",
    "        with  open(\"./map.json\") as trail_file:\n",
    "            self.matrix = json.load(trail_file)\n",
    "            self.total_food = sum(map(sum, self.matrix))\n",
    "            self.matrix = [[\".\" if col == 0 else \"X\" for col in row] for row in self.matrix]\n",
    "            self.row_start = self.row = 0\n",
    "            self.col_start = self.col = 0\n",
    "#             self.dir = 1\n",
    "            self.matrix_row = len(self.matrix)\n",
    "            self.matrix_col = len(self.matrix[0])\n",
    "            self.matrix_exc = copy.deepcopy(self.matrix)\n",
    "            self.matrix_exc2 = copy.deepcopy(self.matrix_exc)\n",
    "            self.row_start = self.row = 0\n",
    "            self.col_start = self.col = 0\n",
    "            \n",
    "    def turn_left(self): \n",
    "        self.dir = (self.dir - 1) % 4\n",
    "\n",
    "    def turn_right(self): \n",
    "        self.dir = (self.dir + 1) % 4\n",
    "        \n",
    "    def move_forward(self):\n",
    "        self.row = (self.row + self.dir_row[self.dir]) % self.matrix_row\n",
    "        self.col = (self.col + self.dir_col[self.dir]) % self.matrix_col\n",
    "#         print(\"moving forward\")\n",
    "        if self.matrix_exc[self.row][self.col] == \"X\":\n",
    "            self.eaten += 1\n",
    "\n",
    "    def do_nothing(self):\n",
    "        pass        \n",
    "    \n",
    "    def sense_food(self):\n",
    "        ahead_row = (self.row + self.dir_row[self.dir]) % self.matrix_row\n",
    "        ahead_col = (self.col + self.dir_col[self.dir]) % self.matrix_col \n",
    "#         print(\"sensing food\")\n",
    "        return self.matrix_exc[ahead_row][ahead_col] == \"X\"\n",
    "   \n",
    "\n",
    "    def if_food_ahead(self, out1, out2):\n",
    "        return partial(if_then_else, self.sense_food, out1, out2)\n",
    "    \n",
    "#     Food:    ( [3, 3, 3, 3, 3], [0, 0, 0, 0, 0] )\n",
    "#     No Food: ( [1, 1, 1, 1, 3], [1, 2, 3, 4, 0] )\n",
    "\n",
    "    def action_to_take(self, action):\n",
    "        actions = {\n",
    "        0: self.do_nothing,\n",
    "        1: self.turn_right,\n",
    "        2: self.turn_left, \n",
    "        3: self.move_forward,\n",
    "        \n",
    "        }\n",
    "        return actions[action]\n",
    "    \n",
    "    \n",
    "    def run(self):\n",
    "        self._reset()\n",
    "#         print(\"start state: {} \\n \\\n",
    "#                 food: {} - {} \\n \\\n",
    "#                 no food: {} - {} \\n\".format(ant.genotype.start_state, \n",
    "#                                             ant.genotype.actions_food, ant.genotype.transitions_food, \n",
    "#                                             ant.genotype.actions_no_food, ant.genotype.transitions_no_food))\n",
    "        while (self.moves < self.max_moves) and (self.eaten < self.total_food):\n",
    "            self.matrix_exc[self.row][self.col] = str(self.current_state)\n",
    "            self.matrix_exc2[self.row][self.col] = str(self.dir)\n",
    "            if self.sense_food():\n",
    "                self.action_to_take(self.genotype.actions_food[self.current_state % 16 ])()\n",
    "                self.current_state = self.genotype.transitions_food[self.current_state % 16 ]\n",
    "            else:\n",
    "                self.action_to_take(self.genotype.actions_no_food[self.current_state % 16 ])()\n",
    "                self.current_state = self.genotype.transitions_no_food[self.current_state % 16]\n",
    "            self.moves += 1\n",
    "#             print(self.current_state)\n",
    "#             print(\"self.dir = {}\".format(self.dir))\n",
    "        return self.eaten\n",
    "    "
   ]
  },
  {
   "cell_type": "markdown",
   "metadata": {},
   "source": [
    "## ---------\n",
    "### -----------------------------------------------\n",
    "## ---------"
   ]
  },
  {
   "cell_type": "code",
   "execution_count": 7,
   "metadata": {
    "scrolled": true
   },
   "outputs": [],
   "source": [
    "creator.create(\"FitnessMax\", base.Fitness, weights=(1.0,))\n",
    "creator.create(\"Individual\", list, fitness=creator.FitnessMax )"
   ]
  },
  {
   "cell_type": "code",
   "execution_count": 8,
   "metadata": {},
   "outputs": [],
   "source": [
    "toolbox = base.Toolbox()\n",
    "random.seed(69)\n",
    "\n",
    "# Structure initializers\n",
    "toolbox.register(\"zero_or_one\", random.randint, 0, 1)\n",
    "toolbox.register(\"individual\", tools.initRepeat, creator.Individual, toolbox.zero_or_one, 196)\n",
    "toolbox.register(\"population\", tools.initRepeat, list, toolbox.individual)\n"
   ]
  },
  {
   "cell_type": "code",
   "execution_count": 9,
   "metadata": {},
   "outputs": [],
   "source": [
    "def evaluate_genome(individual):\n",
    "    ant = AntSimulator(Genome(individual))\n",
    "    eaten = ant.run()\n",
    "#     print(ant.moves)\n",
    "    return eaten,"
   ]
  },
  {
   "cell_type": "code",
   "execution_count": 14,
   "metadata": {},
   "outputs": [],
   "source": [
    "toolbox.register(\"evaluate\", evaluate_genome)\n",
    "toolbox.register(\"select\", tools.selTournament, tournsize=8)\n",
    "toolbox.register(\"mate\", tools.cxTwoPoint)\n",
    "toolbox.register(\"mutate\", tools.mutFlipBit, indpb=0.01)"
   ]
  },
  {
   "cell_type": "code",
   "execution_count": 15,
   "metadata": {
    "scrolled": false
   },
   "outputs": [],
   "source": [
    "def main():\n",
    "    random.seed(69)\n",
    "    pop = toolbox.population(n=500)\n",
    "    hof = tools.HallOfFame(1)\n",
    "    stats = tools.Statistics(lambda ind: ind.fitness.values)\n",
    "    stats.register(\"avg\", np.mean)\n",
    "    stats.register(\"std\", np.std)\n",
    "#     stats.register(\"min\", np.min)\n",
    "    stats.register(\"max\", np.max)\n",
    "    \n",
    "    pop, log = algorithms.eaSimple(pop, toolbox, 0.1, 0.8, 10000, stats=stats, verbose=True) #halloffame=hof, \n",
    "    print('done')\n",
    "    return pop, log"
   ]
  },
  {
   "cell_type": "code",
   "execution_count": null,
   "metadata": {
    "scrolled": true
   },
   "outputs": [
    {
     "name": "stdout",
     "output_type": "stream",
     "text": [
      "gen\tnevals\tavg  \tstd    \tmax\n",
      "0  \t500   \t3.872\t9.41783\t58 \n",
      "1  \t408   \t15.09\t15.0878\t58 \n",
      "2  \t414   \t29.778\t16.5778\t58 \n",
      "3  \t416   \t36.236\t16.8137\t58 \n",
      "4  \t411   \t41.056\t18.0544\t58 \n",
      "5  \t413   \t44.054\t17.8384\t79 \n",
      "6  \t403   \t44.108\t19.4362\t79 \n",
      "7  \t399   \t45.61 \t19.0758\t79 \n",
      "8  \t398   \t46.604\t21.011 \t79 \n",
      "9  \t414   \t52.59 \t23.7415\t79 \n",
      "10 \t397   \t62.062\t22.7911\t79 \n",
      "11 \t408   \t63.778\t23.3724\t80 \n",
      "12 \t415   \t64.606\t22.2773\t80 \n",
      "13 \t400   \t63.45 \t23.3721\t80 \n",
      "14 \t407   \t64.852\t22.6525\t80 \n",
      "15 \t407   \t65.016\t23.0232\t80 \n",
      "16 \t401   \t65.59 \t21.6698\t80 \n",
      "17 \t420   \t65.204\t21.4752\t80 \n",
      "18 \t419   \t64.654\t22.2597\t80 \n",
      "19 \t404   \t65.658\t21.8925\t80 \n",
      "20 \t423   \t63.482\t22.6099\t80 \n",
      "21 \t391   \t65.712\t22.8203\t80 \n",
      "22 \t412   \t65.222\t23.0533\t80 \n",
      "23 \t435   \t63.458\t24.1817\t80 \n",
      "24 \t403   \t65.93 \t22.2097\t80 \n",
      "25 \t416   \t66.22 \t21.1879\t80 \n",
      "26 \t401   \t64.79 \t23.911 \t80 \n",
      "27 \t385   \t66.748\t21.8007\t80 \n",
      "28 \t407   \t62.594\t24.8582\t80 \n",
      "29 \t406   \t62.7  \t24.4975\t80 \n",
      "30 \t409   \t63.106\t24.2077\t80 \n",
      "31 \t398   \t65.738\t23.004 \t80 \n",
      "32 \t408   \t66.436\t22.5257\t80 \n",
      "33 \t409   \t62.244\t25.2713\t80 \n",
      "34 \t423   \t64.494\t23.3869\t80 \n",
      "35 \t416   \t64.38 \t22.4759\t80 \n",
      "36 \t409   \t64.626\t23.7041\t80 \n",
      "37 \t406   \t63.354\t23.6143\t80 \n",
      "38 \t422   \t64.448\t24.2439\t80 \n",
      "39 \t402   \t64.08 \t23.5174\t80 \n",
      "40 \t412   \t66.05 \t22.4663\t80 \n",
      "41 \t407   \t65.366\t22.7128\t80 \n",
      "42 \t407   \t65.372\t23.1205\t80 \n",
      "43 \t409   \t62.622\t24.8655\t80 \n",
      "44 \t414   \t65.974\t22.1634\t80 \n",
      "45 \t409   \t64.604\t23.8412\t80 \n",
      "46 \t400   \t64.976\t23.367 \t80 \n",
      "47 \t410   \t64.398\t23.2244\t80 \n",
      "48 \t424   \t63.45 \t24.3867\t80 \n",
      "49 \t403   \t63.688\t23.7641\t80 \n",
      "50 \t400   \t63.898\t24.2636\t80 \n",
      "51 \t411   \t65.698\t22.4714\t80 \n",
      "52 \t404   \t64.112\t23.1816\t80 \n",
      "53 \t411   \t64.782\t22.2352\t80 \n",
      "54 \t425   \t64.726\t23.6145\t80 \n",
      "55 \t409   \t65.57 \t22.6637\t81 \n",
      "56 \t411   \t63.724\t23.8608\t81 \n",
      "57 \t424   \t64.72 \t22.9417\t81 \n",
      "58 \t410   \t64.498\t23.6016\t81 \n",
      "59 \t399   \t66.254\t23.1673\t81 \n",
      "60 \t412   \t65.248\t23.6195\t81 \n",
      "61 \t412   \t66.742\t22.9942\t81 \n",
      "62 \t396   \t67.514\t22.6452\t81 \n"
     ]
    }
   ],
   "source": [
    "pop, log = main()"
   ]
  },
  {
   "cell_type": "code",
   "execution_count": null,
   "metadata": {},
   "outputs": [],
   "source": []
  },
  {
   "cell_type": "code",
   "execution_count": null,
   "metadata": {},
   "outputs": [],
   "source": []
  },
  {
   "cell_type": "code",
   "execution_count": null,
   "metadata": {},
   "outputs": [],
   "source": []
  },
  {
   "cell_type": "code",
   "execution_count": null,
   "metadata": {},
   "outputs": [],
   "source": []
  },
  {
   "cell_type": "code",
   "execution_count": null,
   "metadata": {},
   "outputs": [],
   "source": []
  },
  {
   "cell_type": "code",
   "execution_count": null,
   "metadata": {},
   "outputs": [],
   "source": []
  },
  {
   "cell_type": "code",
   "execution_count": null,
   "metadata": {},
   "outputs": [],
   "source": []
  },
  {
   "cell_type": "code",
   "execution_count": null,
   "metadata": {},
   "outputs": [],
   "source": []
  },
  {
   "cell_type": "code",
   "execution_count": null,
   "metadata": {},
   "outputs": [],
   "source": []
  },
  {
   "cell_type": "code",
   "execution_count": null,
   "metadata": {},
   "outputs": [],
   "source": []
  },
  {
   "cell_type": "code",
   "execution_count": null,
   "metadata": {},
   "outputs": [],
   "source": []
  },
  {
   "cell_type": "code",
   "execution_count": 19,
   "metadata": {},
   "outputs": [],
   "source": [
    "# import pickle\n",
    "# with open(\"log_86_ant_200_gen.pkl\", \"wb\") as output_file:\n",
    "#     pickle.dump(log, output_file)\n",
    "\n",
    "# with open(\"pop_86_ant_200_gen.pkl\", \"wb\") as output_file:\n",
    "#     pickle.dump(pop, output_file)"
   ]
  },
  {
   "cell_type": "code",
   "execution_count": null,
   "metadata": {},
   "outputs": [],
   "source": []
  },
  {
   "cell_type": "code",
   "execution_count": 21,
   "metadata": {},
   "outputs": [],
   "source": []
  },
  {
   "cell_type": "code",
   "execution_count": 22,
   "metadata": {},
   "outputs": [],
   "source": []
  },
  {
   "cell_type": "code",
   "execution_count": 481,
   "metadata": {},
   "outputs": [],
   "source": [
    "best = tools.selBest(pop, 1)[0]"
   ]
  },
  {
   "cell_type": "code",
   "execution_count": null,
   "metadata": {},
   "outputs": [],
   "source": []
  },
  {
   "cell_type": "code",
   "execution_count": null,
   "metadata": {},
   "outputs": [],
   "source": []
  },
  {
   "cell_type": "code",
   "execution_count": null,
   "metadata": {},
   "outputs": [],
   "source": []
  },
  {
   "cell_type": "code",
   "execution_count": null,
   "metadata": {},
   "outputs": [],
   "source": []
  },
  {
   "cell_type": "code",
   "execution_count": null,
   "metadata": {},
   "outputs": [],
   "source": []
  },
  {
   "cell_type": "code",
   "execution_count": null,
   "metadata": {},
   "outputs": [],
   "source": []
  },
  {
   "cell_type": "code",
   "execution_count": null,
   "metadata": {},
   "outputs": [],
   "source": []
  },
  {
   "cell_type": "code",
   "execution_count": null,
   "metadata": {},
   "outputs": [],
   "source": []
  },
  {
   "cell_type": "code",
   "execution_count": null,
   "metadata": {},
   "outputs": [],
   "source": []
  },
  {
   "cell_type": "code",
   "execution_count": null,
   "metadata": {},
   "outputs": [],
   "source": []
  },
  {
   "cell_type": "code",
   "execution_count": null,
   "metadata": {},
   "outputs": [],
   "source": []
  },
  {
   "cell_type": "code",
   "execution_count": null,
   "metadata": {},
   "outputs": [],
   "source": []
  },
  {
   "cell_type": "code",
   "execution_count": null,
   "metadata": {},
   "outputs": [],
   "source": []
  },
  {
   "cell_type": "code",
   "execution_count": null,
   "metadata": {},
   "outputs": [],
   "source": []
  },
  {
   "cell_type": "code",
   "execution_count": null,
   "metadata": {},
   "outputs": [],
   "source": []
  }
 ],
 "metadata": {
  "kernelspec": {
   "display_name": "Python 3",
   "language": "python",
   "name": "python3"
  },
  "language_info": {
   "codemirror_mode": {
    "name": "ipython",
    "version": 3
   },
   "file_extension": ".py",
   "mimetype": "text/x-python",
   "name": "python",
   "nbconvert_exporter": "python",
   "pygments_lexer": "ipython3",
   "version": "3.6.6"
  }
 },
 "nbformat": 4,
 "nbformat_minor": 2
}
